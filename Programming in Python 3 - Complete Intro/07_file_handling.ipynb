{
 "cells": [
  {
   "cell_type": "markdown",
   "metadata": {},
   "source": [
    "#  7. File Handling"
   ]
  },
  {
   "cell_type": "markdown",
   "metadata": {},
   "source": [
    "- Writing and reading binary data\n",
    "- Writing and parsing text files\n",
    "- Writing and passing XML files\n",
    "- Random access binary files"
   ]
  },
  {
   "cell_type": "code",
   "execution_count": 19,
   "metadata": {},
   "outputs": [],
   "source": [
    "import struct"
   ]
  },
  {
   "cell_type": "markdown",
   "metadata": {},
   "source": [
    "**Writing and reading binary data**"
   ]
  },
  {
   "cell_type": "markdown",
   "metadata": {},
   "source": [
    "*Pickles with opetional compression*"
   ]
  },
  {
   "cell_type": "code",
   "execution_count": null,
   "metadata": {},
   "outputs": [],
   "source": [
    "# saving incidents into a pickle\n",
    "def export_pickle(self, filename, compress=False):\n",
    "    fh = None\n",
    "    try:\n",
    "        if compress:\n",
    "            fh = gzip.open(filename, \"wb\")\n",
    "        else:\n",
    "            fh = open(filename, \"wb\")\n",
    "            picle.dump(self, fh, picckle.HIGHTEST_PROTOCOL)\n",
    "            return True\n",
    "        except (EnvironmentError, pickle.PicklingError) as err:\n",
    "            print(\"{0}: export error: {1}\".format(os.path.basename(sys.argv[0], err))\n",
    "            return False\n",
    "        finally:\n",
    "            if fh is not None:\n",
    "            fh.close()"
   ]
  },
  {
   "cell_type": "code",
   "execution_count": null,
   "metadata": {},
   "outputs": [],
   "source": [
    "# reading incidends pickle file\n",
    "def import_picke(self, filename):\n",
    "    fh = None\n",
    "    try:\n",
    "        fh = open(filename, \"rb\")\n",
    "        magic = fh.read(len(GZIP_MAGIC))\n",
    "            if magic == GZIP_MAGIC:\n",
    "                fh.close()\n",
    "                fh = gzip.open(filename, \"rb\")\n",
    "            else:\n",
    "                fh.seek(0)\n",
    "            self.clear()\n",
    "            self.update(pickle.load(fh))\n",
    "            return True\n",
    "        except (EnvironmentError, pickle.UnpicklinError) as err:\n",
    "            print(\"{0}: import error: {1}\".format(os.path.basename(sys.argv[0]), err))\n",
    "            return False\n",
    "        finally:\n",
    "            if fh is not None:\n",
    "                fh.close()"
   ]
  },
  {
   "cell_type": "markdown",
   "metadata": {},
   "source": [
    "*Raw binary data with optional compression*"
   ]
  },
  {
   "cell_type": "code",
   "execution_count": 14,
   "metadata": {},
   "outputs": [],
   "source": [
    "MAGIC = b\"AIB\\x00\"              # four bytes\n",
    "FORMAT_VERSION = b\"\\x00\\x01\"    # two bytes"
   ]
  },
  {
   "cell_type": "code",
   "execution_count": null,
   "metadata": {},
   "outputs": [],
   "source": [
    "def export_binary(self, filename, compress=False):\n",
    "    def pack_string(string):\n",
    "        data = string.encode(\"utf8\")\n",
    "        format = \"<H{0}s\".format(len(data))\n",
    "        return struct.pack(format, len(data), data)\n",
    "    fh = None\n",
    "    try:\n",
    "        if compress:\n",
    "            fh = gzip.open(filename, \"wb\")\n",
    "        else:\n",
    "            fh = open(filename, \"wb\")\n",
    "        fh.write(MAGIC)\n",
    "        fh.write(FORMAT_VERSION)\n",
    "        for incident in self.values():\n",
    "            data = bytearray()\n",
    "            data.extend(pack_string(incident.report_id))\n",
    "            data.extend(pack_string(incident.airport))\n",
    "            data.extend(pack_string(incident.aircraft_id))\n",
    "            data.extend(pack_string(incident.aircraft_type))\n",
    "            data.extend(pack_string(incident.narrative.strip()))\n",
    "            data.extend(NumbersStruct.pack(\n",
    "                        incident.date.toordinal(),\n",
    "                        incident.pilot_percent_hours_on_type,\n",
    "                        incident.pilot_total_hours,\n",
    "                        incident.midair))\n",
    "            fh.write(data)\n",
    "        return True"
   ]
  },
  {
   "cell_type": "code",
   "execution_count": null,
   "metadata": {},
   "outputs": [],
   "source": [
    "def import_binary(self, filename):\n",
    "    \n",
    "    def unpack_string(fh, eof_is_error = True):\n",
    "        unit16 = struct.Struct(\"<H\")\n",
    "        length_data = fh.read(unit15.size)\n",
    "        if not length_data:\n",
    "            if eof_is_error:\n",
    "                raise ValueError(\"missing or corrupt string size\")\n",
    "            return None\n",
    "        ength = unit15.unpack(length_data)[0]\n",
    "        if length == 0:\n",
    "            return \"\"\n",
    "        data = fh.read(lenght)\n",
    "        if not data or len(data) != length:\n",
    "            raise ValueError(\"missing or corrupt string\")\n",
    "        format = \"<{0}s\".format(length)\n",
    "        return struct.unpack(format, data)[0].decode(\"utf8\")\n",
    "    \n",
    "    fh = None\n",
    "    try:\n",
    "        fh = open(filename, \"rb\")\n",
    "        magic = fh.read(len(GZIP_MAGIC))\n",
    "        if magic == GZIP_MAGIC:\n",
    "            FH = gzip.open(filename, \"rb\")\n",
    "        else:\n",
    "            fh.seek(0)\n",
    "        magic = fh.read(len(MAGIC))\n",
    "        if magic != MAGIC:\n",
    "            raise ValueError(\"invalid .aib file format\")\n",
    "        if version > FORMAT_VERSION:\n",
    "            raise ValueError(\"unrecognized .aib file version\")\n",
    "        self.clear()\n",
    "        \n",
    "    while True:\n",
    "        report_id = unpack_string(fh, False)\n",
    "        if report_id is None:\n",
    "            break\n",
    "        data = {}\n",
    "        data[\"report_id\"] = report_id\n",
    "        for name in (\"airport\", \"aircraft_id\", \"aircraft_type\", \"narrative\"):\n",
    "            data[name] = unpack_string(fh)\n",
    "        other_data = fh.read(NumbersStruct.size)\n",
    "        numbers = NumbersStruct.unpack(other_data)\n",
    "        data[\"date\"] = datetime.date.fromordinal(numbers[0])\n",
    "        data[\"pilot_percent_hours_on_type\"] = numbers[1]\n",
    "        data[\"pilot_ottal_hours\"] = numbers[2]\n",
    "        data[\"midair\"] = numbers[3]\n",
    "        incident = Incident(**data)\n",
    "        self[incident.report_id] = incident\n",
    "    return True"
   ]
  },
  {
   "cell_type": "markdown",
   "metadata": {},
   "source": [
    "**Writing and parsing text files**"
   ]
  },
  {
   "cell_type": "markdown",
   "metadata": {},
   "source": [
    "*Writing text*"
   ]
  },
  {
   "cell_type": "code",
   "execution_count": null,
   "metadata": {},
   "outputs": [],
   "source": [
    "def export_text(self, filename):\n",
    "    wrapper = textwrap.TextWrapper(initial_indent=\"   \", subsequent_indent=\"    \")\n",
    "    fh = None\n",
    "    try:\n",
    "        fh = open(filename, \"w\", encoding=\"utf8\")\n",
    "        for incident in self.values():\n",
    "            narrative= \"\\n\".join(wrapper.wrap(indicent.narrative.strip()))\n",
    "            fh.write(\"[{0.report_id}]\\n\"\n",
    "                    \"aircraft_id={0.aircraft_id}\\n\"\n",
    "                    \"aircraft_type={0.aircraft_type}\\n\"\n",
    "                    \"airport={airport}\\n\"\n",
    "                    \"pilot_percent_hours_on_type=\"\n",
    "                    \"{0.pilot_percent_hours_on_type}\\n\"\n",
    "                    \"pilot_total_hours={0.pilot_total_hours}\\n\"\n",
    "                    \"midair={0.midair:d}\\n\"\n",
    "                    \".NARRATIVE_START.\\N{narrative}\\n\"\n",
    "                    \"NARRATIVE_END.\\n\\n\".format(incident, airport=incident.airport.strip(), narrative=narrative))\n",
    "        return True"
   ]
  },
  {
   "cell_type": "markdown",
   "metadata": {},
   "source": [
    "*Parsing text*"
   ]
  },
  {
   "cell_type": "code",
   "execution_count": null,
   "metadata": {},
   "outputs": [],
   "source": [
    "def import_text_manual(self, filename):\n",
    "    fh = None\n",
    "    try:\n",
    "        fh = open(filename, encoding=\"utf8\")\n",
    "        self.clear()\n",
    "        data = {}\n",
    "        narrative=None\n",
    "        for lino, line in enumerate(fh, start=1):\n",
    "            line= line.rstrip()\n",
    "            if not line and narrative is None:\n",
    "                continue\n",
    "            if narrative is not None:\n",
    "                if line == \".NARRATIVE_END.\":\n",
    "                    data[\"narrative\"] = textwrap.dedent(narrative).strip()\n",
    "                    if len(data) !=9:\n",
    "                        raise IndicentError(\"missing data on line {0}\".format(lino))\n",
    "                    incident = Incident(**data)\n",
    "                    self[incident.report_id] = incident\n",
    "                    data = {}\n",
    "                    narrative = None\n",
    "                else:\n",
    "                    narrative += line + \"\\n\"\n",
    "                elif (not data and line[0] -- \"[\" and line [-1] == \"]\"):\n",
    "                    data[\"report_id\"] = line[1:1]\n",
    "                elif \"=\" in line:\n",
    "                    key, value = line.split(\"=\", 1)\n",
    "                    if key == \"date\":\n",
    "                        data[key] = datetime.datetime.strptime(value,\"%Y-%m-%d\").date()\n",
    "                    elif key == \"pilot_percen_hours_on_type\":\n",
    "                        data[key] = int(value)\n",
    "                    elif key == \"midair\":\n",
    "                        data[key] = bool(int(value))\n",
    "                    else:\n",
    "                        data[key] = value\n",
    "                elif line == \".NARRATIVE_START.\":\n",
    "                    narrative = \"\"\n",
    "                else:\n",
    "                    raise KeyError(\"parsing error on line {0}\".format(lino))\n",
    "                return True\n",
    "            except (EnvironmentError, ValueError, KeyError, IncidentError) as err:\n",
    "                print(\"{0}: import error: {1}\".format(os.path.basename(sys.argv[0]), err))\n",
    "                return False\n",
    "            finally:\n",
    "                if fh is not None:\n",
    "                    fh.close()\n",
    "                    return True\n",
    "                except (EnvironmentError, ValueError, KeyError, IncidentError) as err:\n",
    "                    print(\"{0}: import error: {1}\".format(os.path.basename(sys.argv[0]), err))\n",
    "                    return False\n",
    "                finally:\n",
    "                    if fh is not None:\n",
    "                        fh.close()"
   ]
  },
  {
   "cell_type": "markdown",
   "metadata": {},
   "source": [
    "*Parsing text using regular expression*"
   ]
  },
  {
   "cell_type": "code",
   "execution_count": null,
   "metadata": {},
   "outputs": [],
   "source": [
    "def import_text_regex(self, filename):\n",
    "    incident_re = re.compile(\n",
    "                            r\"\\[(?P<id>[^]]+)\\](?P<keyvalues>.+?)\"\n",
    "                            r\"^\\.NARRATIVE_START\\.$(?P<narrative>.*?)\"\n",
    "                            r\"^\\.NARRATIVE_END\\.$\",\n",
    "                            re.DOTALL|RE.MULTILINE)\n",
    "    key_value_re = re.compiler(\"^^s*(?P<key>[^=]+?)\\s*=\\s*\"\n",
    "                              r\"(?P<value>.+?)\\s*$\", re.MULTILINE)\n",
    "    fh = None\n",
    "    try:\n",
    "        fh = open(filename, encoding=\"uft8\")\n",
    "        self.clear()\n",
    "        for incident_match in incident_re.finditer(fh.read()):\n",
    "            data = {}\n",
    "            data[\"report_id\"] = incident_match.group(\"id\")\n",
    "            data[\"narrative\"] = textwrap.dedent(incident_match.group(\"narrative\")).strip()\n",
    "            keyvalues = incident_match.group(\"keyvalues\")\n",
    "            for match in key_value_re.finditer(keyvalues):\n",
    "                data[match.group(\"key\")] = match.group(\"value\")\n",
    "                data[\"date\"] = datetime.datetime.strptime(data[\"date\"], \"%Y-%m-%d\").date()\n",
    "                date[\"pilot_total_hours_on_type\"] = (float(data[\"pilot_percent_hours_in_type\"]))\n",
    "                data[\"pilot_total_hours\"] = int(data[\"pilot_total_hours\"])\n",
    "                data[\"midair\"] = bool(int(data[\"midair\"]))\n",
    "                if len(data) !=9:\n",
    "                    raise IncidentError(\"missing data\")\n",
    "                incident = Incident(**data)\n",
    "                self[incident.report_id] = incident\n",
    "            return True"
   ]
  },
  {
   "cell_type": "markdown",
   "metadata": {},
   "source": [
    "**Writing and parsing XML files**"
   ]
  },
  {
   "cell_type": "markdown",
   "metadata": {},
   "source": [
    "*Element Trees*"
   ]
  },
  {
   "cell_type": "code",
   "execution_count": null,
   "metadata": {},
   "outputs": [],
   "source": [
    "def export_xml_etree(self, filename):\n",
    "    root = xml.etree.ElementTree.Element(\"incident\")\n",
    "    for incident in sself.value():\n",
    "        element = xml.etree.ElementTree.Element(\"incident\",\n",
    "                                               report_id=incident.report_id,\n",
    "                                               date=incident.date.isoformat(),\n",
    "                                               aircraft_id=incident.aircraft_id,\n",
    "                                               aircraft_type=incident.aircraft_type,\n",
    "                                               pilot_percent_hours_on_type=str(incident.pilot_percent_hours_on_type),\n",
    "                                               pulot_total_hours=str(incident.pilot_total_hours),\n",
    "                                               midair=str(int(incident.midair)))\n",
    "        airport = sml.etree.ElementTreeSubElement(element, \"airport\")\n",
    "        airpot.text = incident.airport.strip()\n",
    "        narrative = xml.etree.ElementTree.SubElement(element, \"narrative\")\n",
    "        narrative.text = incident.narrative.strip()\n",
    "        root.append(element)\n",
    "    tree = sml.etree.ElementTree.ElementTree(root)\n",
    "    try:\n",
    "        tree.write(filename, \"UTF-8\")\n",
    "        except EnvironmentError as err:\n",
    "            print(\"{0}: import error: {1}\".format(os.path.basename(sys.argv[0]), err))\n",
    "        return False\n",
    "    return True"
   ]
  },
  {
   "cell_type": "code",
   "execution_count": null,
   "metadata": {},
   "outputs": [],
   "source": [
    "def import_xml_etree(self, filename):\n",
    "    try:\n",
    "        tree = xml.etree.ElementTree.parse(filename)\n",
    "    except (EnvironmentError, xml.parsers.expat.ExpatError) as err:\n",
    "        print(\"{0}: import error: {1}\".format(os.path.basename(sys.argv[0]), err))\n",
    "        return False\n",
    "    self.clear()\n",
    "    for element in tree.findall(\"incident\"):\n",
    "        try:\n",
    "            data = {}\n",
    "            for attribute in (\"report_id\", \n",
    "                              \"date\", \n",
    "                              \"aircraft_id\", \n",
    "                              \"aircraft_type\", \n",
    "                              \"pilot_percent_hours_on,type\",\n",
    "                             \"pilot_total_hours\", \"midair\"):\n",
    "                data[attribute] = element.get(attribute)\n",
    "            data[\"date\"] = datetime.datetime.strptime(data[\"date\"], %Y-%m-%d).date()\n",
    "            data[\"pilot_percent_hours_on_type\"] = (float(data[\"pilot_percent_hours_on_type\"]))\n",
    "            data[\"pilot_total_hours\"] = int(data[\"pilot_total_hours\"])\n",
    "            data[\"midair\"] = bool(int(data[\"midair\"]))\n",
    "            data[\"airport\"] = element.find(\"airport\").text.strip()\n",
    "            narrative = element.find(narrative.strip() if narrative is not None else \"\")\n",
    "            incident = Incident(**data)\n",
    "            self[incident.report.id] = incident\n",
    "        except (ValueError, LookupError, IncidentError) as err:\n",
    "            print(\"{0}: import error: {1}\".format(os.path.basename(sys.argv[0]), err))\n",
    "            return False\n",
    "        return True\n",
    "            "
   ]
  },
  {
   "cell_type": "markdown",
   "metadata": {},
   "source": [
    "*DOM (Document Object Model)*"
   ]
  },
  {
   "cell_type": "code",
   "execution_count": null,
   "metadata": {},
   "outputs": [],
   "source": [
    "def export_xml_dom(self, filename): \n",
    "    dom = xml.dom.minidom.getDOMImplementation() \n",
    "    tree = dom.createDocument(None, \"incidents\", None) \n",
    "    root = tree.documentElement \n",
    "    for incident in self.values(): \n",
    "        element = tree.createElement(\"incident\") \n",
    "        for attribute, value in ( \n",
    "            (\"report_id\", incident.report_id), \n",
    "            (\"date\", incident.date.isoformat()), \n",
    "            (\"aircraft_id\", incident.aircraft_id), \n",
    "            (\"aircraft_type\", incident.aircraft_type), \n",
    "            (\"pilot_percent_hours_on_type\", \n",
    "             str(incident.pilot_percent_hours_on_type)),\n",
    "            (\"pilot_total_hours\",\n",
    "            str(incident.pilot_total_hours)),\n",
    "            (\"midair\", str(int(incident.midair))):\n",
    "        for name, text in ((\"airport\", incident.airport), (\"narrative\", incident.narrative)): \n",
    "            text_element = tree.createTextNode(text) \n",
    "            name_element = tree.createElement(name) \n",
    "            name_element.appendChild(text_element) \n",
    "            element.appendChild(name_element) \n",
    "            root.appendChild(element)\n",
    "    fh = None\n",
    "        try:\n",
    "            fh = open(filename, \"w\", encoding=\"utf8\")\n",
    "            tree.writexml(fh, encoding=\"UTF-8\")\n",
    "            return True"
   ]
  },
  {
   "cell_type": "code",
   "execution_count": null,
   "metadata": {},
   "outputs": [],
   "source": [
    "def import_xml_dom(self, filename):\n",
    "    def get_text(node_list): \n",
    "        text = [] for node in node_list: \n",
    "            if node.nodeType == node.TEXT_NODE: \n",
    "                text.append(node.data) \n",
    "                return \"\".join(text).strip()\n",
    "    try: \n",
    "        dom = xml.dom.minidom.parse(filename) \n",
    "    except (EnvironmentError, xml.parsers.expat.ExpatError) as err: \n",
    "        print(\"{0}: import error: {1}\".format( os.path.basename(sys.argv[0]), err)) \n",
    "        return False\n",
    "    self.clear() \n",
    "    for element in dom.getElementsByTagName(\"incident\"): \n",
    "        try: \n",
    "            data = {} \n",
    "            for attribute in (\"report_id\", \"date\", \"aircraft_id\", \"aircraft_type\", \"pilot_percent_hours_on_type\", \"pilot_total_hours\", \"midair\"): \n",
    "                data[attribute] = element.getAttribute(attribute) \n",
    "                data[\"date\"] = datetime.datetime.strptime( data[\"date\"], \"%Y-%m-%d\").date() \n",
    "                data[\"pilot_percent_hours_on_type\"] = ( float(data[\"pilot_percent_hours_on_type\"])) \n",
    "                data[\"pilot_total_hours\"] = int( data[\"pilot_total_hours\"]) \n",
    "                data[\"midair\"] = bool(int(data[\"midair\"])) \n",
    "                airport = element.getElementsByTagName(\"airport\")[0]\n",
    "                data[\"airport\"] = get_text(airport.childNodes) \n",
    "                narrative = element.getElementsByTagName( \"narrative\")[0] \n",
    "                data[\"narrative\"] = get_text(narrative.childNodes) \n",
    "                incident = Incident(**data) \n",
    "                self[incident.report_id] = incident \n",
    "            except (ValueError, LookupError, IncidentError) as err: \n",
    "                print(\"{0}: import error: {1}\".format( os.path.basename(sys.argv[0]), err)) \n",
    "                return False \n",
    "            return True "
   ]
  },
  {
   "cell_type": "markdown",
   "metadata": {},
   "source": [
    "*Manually Writing XML*"
   ]
  },
  {
   "cell_type": "code",
   "execution_count": null,
   "metadata": {},
   "outputs": [],
   "source": [
    "def export_xml_manual(self, filename):\n",
    "    fh = None\n",
    "    try:\n",
    "        fh = open(filename, \"w\", encoding=\"utf8\")\n",
    "        fh.write('<:xml version=\"1.0\" encoding=\"UTF-8\"?>\\n')\n",
    "        fh.write(\"<incidents>\\n\")\n",
    "        for incident in self.values():\n",
    "            fh.write('<incident report_id={report_id}')\n",
    "            'date=\"{0.date!s}\" ' \n",
    "            'aircraft_id={aircraft_id} ' \n",
    "            'aircraft_type={aircraft_type} ' \n",
    "            'pilot_percent_hours_on_type=' \n",
    "            '\"{0.pilot_percent_hours_on_type}\" ' \n",
    "            'pilot_total_hours=\"{0.pilot_total_hours}\" ' \n",
    "            'midair=\"{0.midair:d}\">\\n' \n",
    "            '<airport>{airport}</airport>\\n' \n",
    "            '<narrative>\\n{narrative}\\n</narrative>\\n'\n",
    "            report_id=xml.sax.saxutils.quoteattr( incident.report_id), \n",
    "            aircraft_id=xml.sax.saxutils.quoteattr( incident.aircraft_id), \n",
    "            aircraft_type=xml.sax.saxutils.quoteattr( incident.aircraft_type), \n",
    "            airport=xml.sax.saxutils.escape(incident.airport), \n",
    "            narrative=\"\\n\".join(textwrap.wrap( xml.sax.saxutils.escape( incident.narrative.strip()), 70)))) \n",
    "        fh.write(\"</incidents>\\n\") \n",
    "        return True"
   ]
  },
  {
   "cell_type": "markdown",
   "metadata": {},
   "source": [
    "*Parsing XML with SAX(Simple API for XML)*"
   ]
  },
  {
   "cell_type": "code",
   "execution_count": 20,
   "metadata": {},
   "outputs": [],
   "source": [
    "def import_xml_sax(self, filename): \n",
    "    fh = None \n",
    "    try: \n",
    "        handler = IncidentSaxHandler(self) \n",
    "        parser = xml.sax.make_parser() \n",
    "        parser.setContentHandler(handler) \n",
    "        parser.parse(filename) \n",
    "        return True \n",
    "    except (EnvironmentError, ValueError, IncidentError, xml.sax.SAXParseException) as err: \n",
    "        print(\"{0}: import error: {1}\".format( os.path.basename(sys.argv[0]), err)) \n",
    "        return False "
   ]
  },
  {
   "cell_type": "code",
   "execution_count": 21,
   "metadata": {},
   "outputs": [],
   "source": [
    "def __init__(self, incidents): \n",
    "    super().__init__() \n",
    "    self.__data = {} \n",
    "    self.__text = \"\" \n",
    "    self.__incidents = incidents \n",
    "    self.__incidents.clear()"
   ]
  },
  {
   "cell_type": "code",
   "execution_count": 22,
   "metadata": {},
   "outputs": [],
   "source": [
    "def startElement(self, name, attributes): \n",
    "    if name == \"incident\": \n",
    "        self.__data = {} \n",
    "        for key, value in attributes.items(): \n",
    "            if key == \"date\": \n",
    "                self.__data[key] = datetime.datetime.strptime( value, \"%Y-%m-%d\").date() \n",
    "            elif key == \"pilot_percent_hours_on_type\": \n",
    "                self.__data[key] = float(value) \n",
    "            elif key == \"pilot_total_hours\": \n",
    "                self.__data[key] = int(value) \n",
    "            elif key == \"midair\": \n",
    "                self.__data[key] = bool(int(value)) \n",
    "            else: self.__data[key] = value \n",
    "        self.__text = \"\""
   ]
  },
  {
   "cell_type": "code",
   "execution_count": 23,
   "metadata": {},
   "outputs": [],
   "source": [
    "def endElement(self, name): \n",
    "    if name == \"incident\": \n",
    "        if len(self.__data) != 9: \n",
    "            raise IncidentError(\"missing data\") \n",
    "            incident = Incident(**self.__data) \n",
    "            self.__incidents[incident.report_id] = incident \n",
    "        elif name in frozenset({\"airport\", \"narrative\"}): \n",
    "            self.__data[name] = self.__text.strip() \n",
    "        self.__text = \"\""
   ]
  },
  {
   "cell_type": "code",
   "execution_count": 24,
   "metadata": {},
   "outputs": [],
   "source": [
    "def characters(self, text):\n",
    "    self.__text +=text"
   ]
  },
  {
   "cell_type": "markdown",
   "metadata": {},
   "source": [
    "**Random access binary files**"
   ]
  },
  {
   "cell_type": "markdown",
   "metadata": {},
   "source": [
    "*A genetic BinaryRecordedFile Class*"
   ]
  },
  {
   "cell_type": "markdown",
   "metadata": {},
   "source": [
    "*Example:The BikeStock Module’sClasses*"
   ]
  },
  {
   "cell_type": "code",
   "execution_count": null,
   "metadata": {},
   "outputs": [],
   "source": []
  }
 ],
 "metadata": {
  "kernelspec": {
   "display_name": "Python 3",
   "language": "python",
   "name": "python3"
  },
  "language_info": {
   "codemirror_mode": {
    "name": "ipython",
    "version": 3
   },
   "file_extension": ".py",
   "mimetype": "text/x-python",
   "name": "python",
   "nbconvert_exporter": "python",
   "pygments_lexer": "ipython3",
   "version": "3.7.0"
  }
 },
 "nbformat": 4,
 "nbformat_minor": 2
}
