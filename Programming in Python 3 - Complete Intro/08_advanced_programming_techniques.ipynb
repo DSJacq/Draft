{
 "cells": [
  {
   "cell_type": "markdown",
   "metadata": {},
   "source": [
    "## 8. Advanced Programming Techniques"
   ]
  },
  {
   "cell_type": "code",
   "execution_count": 19,
   "metadata": {},
   "outputs": [],
   "source": [
    "import math"
   ]
  },
  {
   "cell_type": "markdown",
   "metadata": {},
   "source": [
    "- Further procedural programming\n",
    "\n",
    "- Further object_oriented programming\n",
    "\n",
    "- Functional-style programming"
   ]
  },
  {
   "cell_type": "markdown",
   "metadata": {},
   "source": [
    "### . Further procedural programming"
   ]
  },
  {
   "cell_type": "markdown",
   "metadata": {},
   "source": [
    "*Branching using dictionaries*"
   ]
  },
  {
   "cell_type": "markdown",
   "metadata": {},
   "source": [
    "*Generator expressions and functions*"
   ]
  },
  {
   "cell_type": "code",
   "execution_count": 2,
   "metadata": {},
   "outputs": [],
   "source": [
    "# Option 1\n",
    "\n",
    "def item_in_key_order(d):\n",
    "    for key in sorted(d):\n",
    "        yield key, d[key]"
   ]
  },
  {
   "cell_type": "code",
   "execution_count": 5,
   "metadata": {},
   "outputs": [],
   "source": [
    "# Option 2\n",
    "\n",
    "def items_in_key_order(d):\n",
    "    return ((key, d[key]) \n",
    "            for key in sorted(d))"
   ]
  },
  {
   "cell_type": "markdown",
   "metadata": {},
   "source": [
    "*"
   ]
  },
  {
   "cell_type": "code",
   "execution_count": 6,
   "metadata": {},
   "outputs": [],
   "source": [
    "# Option 1\n",
    "\n",
    "def quarters(next_quarter=0.0):\n",
    "    while True:\n",
    "        yield nex_quarter\n",
    "        next_quarter += 0.25"
   ]
  },
  {
   "cell_type": "code",
   "execution_count": null,
   "metadata": {},
   "outputs": [],
   "source": [
    "# Option 2\n",
    "\n",
    "result = []\n",
    "for x in quarters():\n",
    "    result.append(x)\n",
    "    if x>= 1.0:\n",
    "        break"
   ]
  },
  {
   "cell_type": "code",
   "execution_count": 9,
   "metadata": {},
   "outputs": [],
   "source": [
    "# Option 3\n",
    "\n",
    "def quarters(next_quarter=0.0):\n",
    "    while True:\n",
    "        received = (yield next_quarter)\n",
    "        if received is None:\n",
    "            next_quarter +=0.25\n",
    "        else:\n",
    "            next_quarter = received"
   ]
  },
  {
   "cell_type": "code",
   "execution_count": 14,
   "metadata": {},
   "outputs": [],
   "source": [
    "# Otpion 4\n",
    "\n",
    "result = []\n",
    "generator = quarters()\n",
    "while len(result) < 5:\n",
    "    x = next(generator)\n",
    "    if abs(x - 0.5) < sys.float_info.epsilon:\n",
    "        x = generator.send(1.0)\n",
    "    result.append(x)"
   ]
  },
  {
   "cell_type": "markdown",
   "metadata": {},
   "source": [
    "*"
   ]
  },
  {
   "cell_type": "code",
   "execution_count": null,
   "metadata": {},
   "outputs": [],
   "source": [
    "if sys.platform.startswith(\"win\"):\n",
    "    def get_files(names):\n",
    "        for name in names:\n",
    "            if os.path.isfile(name):\n",
    "                yield name\n",
    "            else:\n",
    "                for file in glob.iglob(name):\n",
    "                    if not os.path.isfile(file):\n",
    "                        continue\n",
    "                    yield file\n",
    "else:\n",
    "    def get_files(names):\n",
    "        return (file for in names if os.path.isfile(file))"
   ]
  },
  {
   "cell_type": "markdown",
   "metadata": {},
   "source": [
    "*Dynamic code execution and dynamic import*"
   ]
  },
  {
   "cell_type": "markdown",
   "metadata": {},
   "source": [
    "    Dinamic code execution"
   ]
  },
  {
   "cell_type": "code",
   "execution_count": 17,
   "metadata": {},
   "outputs": [
    {
     "data": {
      "text/plain": [
       "2147483647"
      ]
     },
     "execution_count": 17,
     "metadata": {},
     "output_type": "execute_result"
    }
   ],
   "source": [
    "x = eval(\"(2 ** 31) - 1\")\n",
    "x"
   ]
  },
  {
   "cell_type": "code",
   "execution_count": 20,
   "metadata": {},
   "outputs": [],
   "source": [
    "# import math\n",
    "code = '''\n",
    "def area_of_sphere(r):\n",
    "    return 4* math.pi * r ** 2\n",
    "'''\n",
    "context = {}\n",
    "context[\"math\"] = math\n",
    "exec(code, context)"
   ]
  },
  {
   "cell_type": "code",
   "execution_count": 22,
   "metadata": {},
   "outputs": [],
   "source": [
    "area_of_sphere = context[\"area_of_sphere\"]\n",
    "area = area_of_sphere(5)"
   ]
  },
  {
   "cell_type": "markdown",
   "metadata": {},
   "source": [
    "    Dinamically importing modules"
   ]
  },
  {
   "cell_type": "code",
   "execution_count": null,
   "metadata": {},
   "outputs": [],
   "source": [
    "def main():\n",
    "    modules = load_modules()\n",
    "    get_file_type_functions = []\n",
    "    for module in modules:\n",
    "        get_file_type = get_function(module, \"get_file_type\")\n",
    "        if get_file_type is not None:\n",
    "            get_file_type_functions.append(get_file)\n",
    "    for file in get_files(sys,argv[1:]):\n",
    "        fh = None\n",
    "        try:\n",
    "            fh = open(file, \"rb\")\n",
    "            magic = fh.read(1000)\n",
    "            for get_file_type(magic, os.path.splitext(file)[1])\n",
    "            if filetype is not None:\n",
    "                print(\"{0:.<20}{1}\".format(filetype, file))\n",
    "                break\n",
    "            else:\n",
    "                print(\"{0:.20}{1}\".format(\"Unknown\", file))\n",
    "            except EnvironmentError as err:\n",
    "                print(err)\n",
    "            finally:\n",
    "                if fh is not None:\n",
    "                    fh.close()"
   ]
  },
  {
   "cell_type": "code",
   "execution_count": 25,
   "metadata": {},
   "outputs": [],
   "source": [
    "def load_modules():\n",
    "    modules = []\n",
    "    for name in os.listdir(os.path.dirname(__file__) or \".\"):\n",
    "        if name.endswith(\".py\") and \"magic\" in name.lower():\n",
    "            filename = name\n",
    "            name = os.path.splitext(name)[0]\n",
    "            if name.isidentifier() and name not in sys.modules:\n",
    "                fh = None\n",
    "                try:\n",
    "                    fh = open(filename, \"r\", encoding=\"utf8\")\n",
    "                    code = fh.read()\n",
    "                    module = type(sys)(name)\n",
    "                    sys.modules[name] = module\n",
    "                    exec(code, module.__dict__)\n",
    "                    modules.append(module)\n",
    "                except (EvironmentError, SyntaxError) as err:\n",
    "                    sys.modules.pop(name, None)\n",
    "                    print(err)\n",
    "                finally:\n",
    "                    if fh is not None:\n",
    "                        fh.close()\n",
    "    return modules"
   ]
  },
  {
   "cell_type": "markdown",
   "metadata": {},
   "source": [
    "*Local and recursive functions*"
   ]
  },
  {
   "cell_type": "code",
   "execution_count": 1,
   "metadata": {},
   "outputs": [],
   "source": [
    "def factorial(x):\n",
    "    if x <=1:\n",
    "        return 1\n",
    "    return x * factorial(x-1)"
   ]
  },
  {
   "cell_type": "code",
   "execution_count": 2,
   "metadata": {},
   "outputs": [
    {
     "data": {
      "text/plain": [
       "120"
      ]
     },
     "execution_count": 2,
     "metadata": {},
     "output_type": "execute_result"
    }
   ],
   "source": [
    "factorial(5)"
   ]
  },
  {
   "cell_type": "code",
   "execution_count": 3,
   "metadata": {},
   "outputs": [],
   "source": [
    "before = [\"Nonmetals\", \n",
    "          \"    Hydrogen\", \n",
    "          \"    Carbon\", \n",
    "          \"    Nitrogen\", \n",
    "          \"    Oxygen\", \n",
    "          \"Inner Transitionals\", \n",
    "          \"    Lanthanides\", \n",
    "          \"        Cerium\", \n",
    "          \"        Europium\", \n",
    "          \"    Actinides\", \n",
    "          \"        Uranium\", \n",
    "          \"        Curium\", \n",
    "          \"        Plutonium\", \n",
    "          \"Alkali Metals\", \n",
    "          \"    Lithium\", \n",
    "          \"    Sodium\", \n",
    "          \"    Potassium\"]"
   ]
  },
  {
   "cell_type": "code",
   "execution_count": 4,
   "metadata": {},
   "outputs": [],
   "source": [
    "after = [\"Alkali Metals\", \n",
    "         \"    Lithium\", \n",
    "         \"    Potassium\", \n",
    "         \"    Sodium\", \n",
    "         \"Inner Transitionals\", \n",
    "         \"    Actinides\", \n",
    "         \"        Curium\", \n",
    "         \"        Plutonium\", \n",
    "         \"        Uranium\", \n",
    "         \"    Lanthanides\", \n",
    "         \"        Cerium\", \n",
    "         \"        Europium\", \n",
    "         \"Nonmetals\", \n",
    "         \"    Carbon\", \n",
    "         \"    Hydrogen\", \n",
    "         \"    Nitrogen\", \n",
    "         \"    Oxygen\"]"
   ]
  },
  {
   "cell_type": "code",
   "execution_count": null,
   "metadata": {},
   "outputs": [],
   "source": [
    "def indented_list_sort(indented_list, indent=\"    \"):\n",
    "    KEY, ITEM, CHILDREN, = range(3)\n",
    "    \n",
    "    def add_entry(level, key, item, children):\n",
    "#        if level == 0:\n",
    "#            children.append((key, item, []))\n",
    "#        else:\n",
    "#            add_entry(level - 1, key, item, children[-1][CHILDREN])\n",
    "#        nonlocal level\n",
    "        if level == 0:\n",
    "        children.append((key, item, []))\n",
    "        else:\n",
    "            level -= 1\n",
    "            add_entry(key, item, children[-1][CHILDREN])\n",
    "        \n",
    "    def update_indented_list(entry):\n",
    "        indented_list.append(entrey[ITEM])\n",
    "        for subentry in sorted(entry[CHILDREN]):\n",
    "            update_indented_list(subentry)\n",
    "    entries = []\n",
    "    \n",
    "    for item in indented_list:\n",
    "        level = 0\n",
    "        i = 0\n",
    "        while item.startswith(indent, i):\n",
    "            i += len(indent)\n",
    "            level += 1\n",
    "        keu = item.strip().lower()\n",
    "        add_entry(level, key, item, entries)\n",
    "    indented_list = []\n",
    "    \n",
    "    for entry in sorted(entries):\n",
    "        update_indented_list(entry)\n",
    "    return indented_list"
   ]
  },
  {
   "cell_type": "markdown",
   "metadata": {},
   "source": [
    "*Function and method decorators*"
   ]
  },
  {
   "cell_type": "code",
   "execution_count": null,
   "metadata": {},
   "outputs": [],
   "source": [
    "@positive_result\n",
    "def discriminant(a, b, c):\n",
    "    return(B ** 2) - (4 * a * c)"
   ]
  },
  {
   "cell_type": "code",
   "execution_count": 12,
   "metadata": {},
   "outputs": [],
   "source": [
    "# Option 1\n",
    "\n",
    "def positive_result(function):\n",
    "    def wrapper(*args, **kwargs):\n",
    "        result = function(*args, **kwargs)\n",
    "        assert result >= 0, function.__name__+ \"() result insn't >= 0\"\n",
    "        return result\n",
    "    wrapper.__name__ = function.__name__\n",
    "    wrapper.__doc__ = function.__doc__\n",
    "    return wrapper"
   ]
  },
  {
   "cell_type": "code",
   "execution_count": 16,
   "metadata": {},
   "outputs": [],
   "source": [
    "# Option 2\n",
    "\n",
    "def positive_result(function):\n",
    "    @functools.wraps(function)\n",
    "    def wrapper(*args, **kwrags):\n",
    "        result = function(*args, **kwargs)\n",
    "        assert result >= 0, function.__name__ + \"() result insn't >= 0\"\n",
    "        return result\n",
    "    return wrapper"
   ]
  },
  {
   "cell_type": "markdown",
   "metadata": {},
   "source": [
    "*"
   ]
  },
  {
   "cell_type": "code",
   "execution_count": null,
   "metadata": {},
   "outputs": [],
   "source": [
    "@bounded(0, 100)\n",
    "def percent(amount, total):\n",
    "    return (amount / total) * 100"
   ]
  },
  {
   "cell_type": "code",
   "execution_count": 15,
   "metadata": {},
   "outputs": [],
   "source": [
    "def bounded(minimum, maximum):\n",
    "    def decorator(function):\n",
    "        @functools.wraps(function)\n",
    "        def wrapper(*args, **kwargs):\n",
    "            result = function(*args, **kwargs)\n",
    "            if result < minimum:\n",
    "                return minimum\n",
    "            elif result > maximum:\n",
    "                return maximum\n",
    "            return result\n",
    "        return wrapper\n",
    "    return decorator"
   ]
  },
  {
   "cell_type": "markdown",
   "metadata": {},
   "source": [
    "*"
   ]
  },
  {
   "cell_type": "code",
   "execution_count": null,
   "metadata": {},
   "outputs": [],
   "source": [
    "@logged\n",
    "def discounted_price(price, percentage, make_integer=False):\n",
    "    result = price * ((100 - percentage) / 100)\n",
    "    if not (0 < result <= price):\n",
    "        raise ValueError(\"invalid price\")\n",
    "        return result if not make_integer else int(round(result))"
   ]
  },
  {
   "cell_type": "markdown",
   "metadata": {},
   "source": [
    "*"
   ]
  },
  {
   "cell_type": "code",
   "execution_count": null,
   "metadata": {},
   "outputs": [],
   "source": [
    "# set up logging and decorator\n",
    "\n",
    "if __debug__:\n",
    "    logger = logging.getLogger(\"Logger\")\n",
    "    logger.setLevel(logging.DEBUG)\n",
    "    handler = logging.FileHandler(os.path.join(tempfile.getempdir(), \"logged.log\"))\n",
    "    logger.addHandler(handler)\n",
    "    def logged(function):\n",
    "        @functools.wraps(function)\n",
    "        def wrapper(*args, **kwrags):\n",
    "            log = \"called: \" + function.__name__ + \"(\"\n",
    "            log += \", \".join([\"{0!r}\".format(a) for a in args] + [\"{0!s}\".format(k, v) for k, v in kwargs.items()])\n",
    "            result = exception = None\n",
    "            try:\n",
    "                result = function(*args, **kwargs)\n",
    "                return result\n",
    "            except Exception as err:\n",
    "                exception = err\n",
    "            finally:\n",
    "                log == ((\") -> \" + str(result)) if exception is None else \") {0}: {1}\".format(type(exception), exception))\n",
    "                logger.debug(log)\n",
    "                if exception is not None:\n",
    "                    raise exception\n",
    "        return wrapper\n",
    "    else:\n",
    "        def logger(function):\n",
    "            return function"
   ]
  },
  {
   "cell_type": "markdown",
   "metadata": {},
   "source": [
    "*Function annotatios*"
   ]
  },
  {
   "cell_type": "code",
   "execution_count": 20,
   "metadata": {},
   "outputs": [],
   "source": [
    "def is_unicode_punctuation(s : str) -> bool:\n",
    "    for c in s:\n",
    "        if unicodedata.category(c)[0] != \"P\":\n",
    "            return False\n",
    "        return True"
   ]
  },
  {
   "cell_type": "code",
   "execution_count": null,
   "metadata": {},
   "outputs": [],
   "source": [
    "def stricly_typed(function):\n",
    "    annotations = function.__annotations__\n",
    "    arg_spec = inspect.getfullargspec(function)\n",
    "    assert \"return\" in annotations, \"missing type for return value\"\n",
    "    for arg_in arg_spec.args + arg_spec.knownlyargs:\n",
    "        asset arg in annotations, (\"missing type for parameter '\" + args + \"'\")\n",
    "        @functools.wraps(function)\n",
    "        def wrapper(*args, **kwrags):\n",
    "            for name, arg in (list(zip(arg_spec.args, args)) + list(kwrags.items())):\n",
    "                assert isinstance(arg, annotations[name]), (\"expected argument '{0}' of {1} got {2}\".format(name, annotations[name], type(arg)))\n",
    "            rsult = function(*arg, **kwargs)\n",
    "            assert isinstance(result, annotations[\"return\"]), (\"expected return of {0} got {1}\".format(annotations[\"return\"], type(result)))\n",
    "            return result\n",
    "        return wrapper"
   ]
  },
  {
   "cell_type": "code",
   "execution_count": 23,
   "metadata": {},
   "outputs": [],
   "source": [
    "def range_of_floats(*args) -> \"author=Reginald Perrin\":\n",
    "    return (float(x) for x in range(*args))"
   ]
  },
  {
   "cell_type": "markdown",
   "metadata": {},
   "source": [
    "### . Further object-oriented programming"
   ]
  },
  {
   "cell_type": "code",
   "execution_count": 24,
   "metadata": {},
   "outputs": [],
   "source": [
    "class Point:\n",
    "    __slots__ = (\"x\", \"y\")\n",
    "    def __init__(self, x=0, y=0):\n",
    "        self.x = x\n",
    "        self.y = y"
   ]
  },
  {
   "cell_type": "markdown",
   "metadata": {},
   "source": [
    "*Controlling attribute access*"
   ]
  },
  {
   "cell_type": "code",
   "execution_count": 25,
   "metadata": {},
   "outputs": [],
   "source": [
    "class Ord:\n",
    "    def __getattr__(self, char):\n",
    "        return ord(char)"
   ]
  },
  {
   "cell_type": "code",
   "execution_count": 26,
   "metadata": {},
   "outputs": [],
   "source": [
    "class Const:\n",
    "    def __setattr__(self, name, value):\n",
    "        if name in self.__dict__:\n",
    "            raise ValueError(\"cannot change a const attribute\")\n",
    "        self.__dict__[name] = value\n",
    "    def __delattr__(self, name):\n",
    "        if name in self.__dict__:\n",
    "            raise ValueError(\"cannot delete a const attribute\")\n",
    "        raise AttributeError(\"'{0}' object has no attribute '{1}'\".format(self.__class__.__name__, name))"
   ]
  },
  {
   "cell_type": "code",
   "execution_count": null,
   "metadata": {},
   "outputs": [],
   "source": [
    "@property\n",
    "    def width(self):\n",
    "        return self.__width"
   ]
  },
  {
   "cell_type": "code",
   "execution_count": 30,
   "metadata": {},
   "outputs": [],
   "source": [
    "def __getattr__(self, name):\n",
    "    if name == \"colors\":\n",
    "        return set(self.__colors)\n",
    "    classname = self.__class__.name__\n",
    "    if name in frozenset({\"background\", \"width\", \"height\"}):\n",
    "        return self.__dict__[\"_{classname}__{name}\".format(**locals())]\n",
    "    raise AttributeError(\"'{classname}' object has no\" \"attribute '{name}'\".format(**locals()))"
   ]
  },
  {
   "cell_type": "markdown",
   "metadata": {},
   "source": [
    "*Functors*"
   ]
  },
  {
   "cell_type": "code",
   "execution_count": 31,
   "metadata": {},
   "outputs": [],
   "source": [
    "class Strip:\n",
    "    def __init__(self, characters):\n",
    "        self.characters = characters\n",
    "    def __call__(self, string):\n",
    "        return string.strip(self.characters)"
   ]
  },
  {
   "cell_type": "code",
   "execution_count": 32,
   "metadata": {},
   "outputs": [],
   "source": [
    "def make_strip_function(characters):\n",
    "    def strip_function(string):\n",
    "        return string.strip(characters)\n",
    "    return strip_function"
   ]
  },
  {
   "cell_type": "code",
   "execution_count": 34,
   "metadata": {},
   "outputs": [
    {
     "data": {
      "text/plain": [
       "'Land hey ahoy'"
      ]
     },
     "execution_count": 34,
     "metadata": {},
     "output_type": "execute_result"
    }
   ],
   "source": [
    "strip_punctuation = make_strip_function(\",;:!:?\")\n",
    "strip_punctuation(\"Land hey ahoy!\")"
   ]
  },
  {
   "cell_type": "markdown",
   "metadata": {},
   "source": [
    "*"
   ]
  },
  {
   "cell_type": "code",
   "execution_count": 35,
   "metadata": {},
   "outputs": [],
   "source": [
    "class SortKey:\n",
    "    def __init__(self, *attribute_names):\n",
    "        self.attribute_names = attribute_names\n",
    "    def __call__(self, instance):\n",
    "        values = []\n",
    "        for attribute_name in self.attribute_names:\n",
    "            valuesappend(getattr(instance, attribute_name))\n",
    "        return values"
   ]
  },
  {
   "cell_type": "markdown",
   "metadata": {},
   "source": [
    "*"
   ]
  },
  {
   "cell_type": "code",
   "execution_count": 36,
   "metadata": {},
   "outputs": [],
   "source": [
    "class Person:\n",
    "    def __init__(self, forename, surname, email):\n",
    "        sel.forename = forename\n",
    "        self.surname = surname\n",
    "        self.email = email"
   ]
  },
  {
   "cell_type": "markdown",
   "metadata": {},
   "source": [
    "*Context managers*"
   ]
  },
  {
   "cell_type": "code",
   "execution_count": 38,
   "metadata": {},
   "outputs": [],
   "source": [
    "class AtomicList:\n",
    "    def __init__(self_alist, shallow_copy=True):\n",
    "        self.original = alist\n",
    "        self.shallow_copy = shallow_copy\n",
    "    def __enter__(self):\n",
    "        self.modified = (self.original[:] if self.shallow_copy else copy.deepcopy(self.original))\n",
    "        return self.modified\n",
    "    def __exit__(self, ecx_type, exc_val, exc_tb):\n",
    "        if exc_type is None:\n",
    "            self.original[:] = self.modified"
   ]
  },
  {
   "cell_type": "code",
   "execution_count": 43,
   "metadata": {},
   "outputs": [],
   "source": [
    "class XmlShadow:\n",
    "    def __init__(self, attribute_name):\n",
    "        self.attribute = attribute_name\n",
    "    def __get__(self, instance, owner=None):\n",
    "        return xmw.sax.saxutils.escape(getattr(instance, self.attribute_name))"
   ]
  },
  {
   "cell_type": "code",
   "execution_count": null,
   "metadata": {},
   "outputs": [],
   "source": [
    "class CachedXmlShadow:\n",
    "    def __init__(self, attribute_name):\n",
    "        self.attribute_name = attribute_name\n",
    "        self.cache = {}\n",
    "    def __get__(self, instance, owner=None):\n",
    "        xml_text = self.cache.get(id(instance))\n",
    "        if xml_text is not None:\n",
    "            return xml_text\n",
    "        return self.cache.setdefault(id(instance), xml.sax.saxutils.escape(getattr(instante, self.attribute_name))                    "
   ]
  },
  {
   "cell_type": "code",
   "execution_count": null,
   "metadata": {},
   "outputs": [],
   "source": []
  },
  {
   "cell_type": "markdown",
   "metadata": {},
   "source": [
    "*Descriptors*"
   ]
  },
  {
   "cell_type": "code",
   "execution_count": null,
   "metadata": {},
   "outputs": [],
   "source": [
    "class Product:\n",
    "    __slots__ = (\"__name\", \"__description\", \"__price\")\n",
    "    name_as_xml = XmlShadow(\"name\")\n",
    "    description_as_xml = XmlShadow(\"description\")\n",
    "    def __init__(self, name, description, price):\n",
    "        self.__name = name\n",
    "        self.description = description\n",
    "        self.price"
   ]
  },
  {
   "cell_type": "code",
   "execution_count": null,
   "metadata": {},
   "outputs": [],
   "source": [
    "class NamedAndExtensions:\n",
    "    \n",
    "    def __init__(self, name, extension):\n",
    "        self.__name = name\n",
    "        self.extension = extension\n",
    "    \n",
    "    @Property\n",
    "    def name(self):\n",
    "        return self.__name\n",
    "    \n",
    "    @Property\n",
    "    def extension(self):\n",
    "        return self.__extension\n",
    "    \n",
    "    @extension.setter\n",
    "    def extension(self, extension):\n",
    "        self.__extension = extension\n",
    "        "
   ]
  },
  {
   "cell_type": "markdown",
   "metadata": {},
   "source": [
    "*Class decorators*"
   ]
  },
  {
   "cell_type": "code",
   "execution_count": null,
   "metadata": {},
   "outputs": [],
   "source": [
    "def delegate(attribute, name, method_names):\n",
    "    def decorator(cls):\n",
    "        nonlocal attribute_name\n",
    "        if attribute_name.startswith(\"__\"):\n",
    "            attribute_name = \"_\" + cls.__name__ + atttribute_name\n",
    "        for name in method_names:\n",
    "            setattr(cls, name, eval(\"lambda self, *a, **kw: \"\n",
    "                                   \"self.{0}.{1}(*a, **kw)\".format(attribute_name, name)))\n",
    "        return cls\n",
    "    return decotator"
   ]
  },
  {
   "cell_type": "markdown",
   "metadata": {},
   "source": [
    "*Abstract base classes*"
   ]
  },
  {
   "cell_type": "code",
   "execution_count": null,
   "metadata": {},
   "outputs": [],
   "source": [
    "class Appliance(metaclass=abc.ABCMeta):\n",
    "    \n",
    "    @abc.abstractmethod\n",
    "    def __init__(self, model, price):\n",
    "        self.__model = model\n",
    "        self.price = price\n",
    "        \n",
    "    def get_price(self):\n",
    "        return self.__price\n",
    "    \n",
    "    def set_price(self, price):\n",
    "        self.__price = price\n",
    "        \n",
    "    price = abs.abstractproperty(get_price, set_price)\n",
    "    \n",
    "    @property\n",
    "    def model(self):\n",
    "        return self.__model"
   ]
  },
  {
   "cell_type": "code",
   "execution_count": null,
   "metadata": {},
   "outputs": [],
   "source": [
    "class Stack(Undo):\n",
    "    \n",
    "    def __init__(self):\n",
    "        super().__init__()\n",
    "        self.__stack = []\n",
    "\n",
    "    @property\n",
    "    def can_undo(self):\n",
    "        return super().can_undo\n",
    "    \n",
    "    def undo(self):\n",
    "        super().undo()\n",
    "        \n",
    "    def push(self, item):\n",
    "        self.__stack.append(item)\n",
    "        self.add_undo(lambda self: self.__stack.pop())\n",
    "        \n",
    "    def pop(self):\n",
    "        item = self.__stack.pop()\n",
    "        self.add_undo(lambda self: self.__stack.append(item))\n",
    "        return item"
   ]
  },
  {
   "cell_type": "markdown",
   "metadata": {},
   "source": [
    "*Multiple Inheritance*"
   ]
  },
  {
   "cell_type": "code",
   "execution_count": 53,
   "metadata": {},
   "outputs": [],
   "source": [
    "class LoadSave:\n",
    "    \n",
    "    def __init__(self, filename, *attribute_names):\n",
    "        self.filename = filename\n",
    "        self.__attribute_names = []\n",
    "        for name in attribute_names:\n",
    "            if name.startswith(\"__\"):\n",
    "                name = \"__\" + self.__class__.name__ + name\n",
    "                self.__attribute_names.append(name)\n",
    "    \n",
    "    def load(self):\n",
    "        with open(self.filename, \"wb\") as fh:\n",
    "            data = []\n",
    "            for name in self.__attrivute_names:\n",
    "                data.append(getattr(self, name))\n",
    "                pickle.dump(data, fh, pickle.HIGHEST_PROTOCOL)\n",
    "                \n",
    "    def load(self):\n",
    "        with open(self.filename, \"rb\") as fh:\n",
    "            date = pickle.load(fh)\n",
    "            for name, nalue in zip(self.__attribute_names, data):\n",
    "                setattr(self, name, value)"
   ]
  },
  {
   "cell_type": "markdown",
   "metadata": {},
   "source": [
    "*Metaclasses*"
   ]
  },
  {
   "cell_type": "code",
   "execution_count": 54,
   "metadata": {},
   "outputs": [],
   "source": [
    "class LoadableSaveable(type):\n",
    "        def __init__(cls, classname, bases, dictionary):\n",
    "        assert hasattr(cls, \"load\") and isinstance(getattr(cls, \"load\"), collections.Callable), (\"class'\" + classname + \"'must provide a load() method\")\n",
    "        assert hasattr(cls, \"save\") and isinstance(getattr(cls, \"save\"), collections.Callable), (\"class'\" + classname + \"' must ptovide a save() method\")"
   ]
  },
  {
   "cell_type": "code",
   "execution_count": null,
   "metadata": {},
   "outputs": [],
   "source": [
    "class Product(metaclass=AutoSlotProperties):\n",
    "    \n",
    "    def __init__(self, barcode, description):\n",
    "        self.__barcode = barcode\n",
    "        self.description = description\n",
    "        \n",
    "    def get_barcode(self):\n",
    "        return self.__barcode\n",
    "    \n",
    "    def get_description(self):\n",
    "        return self.__description\n",
    "    \n",
    "    def set_description(self, description):\n",
    "        if description is None or len(description) < 3:\n",
    "            self.__description = \"<Invalid Description>\"\n",
    "        else:\n",
    "            self.__description = description"
   ]
  },
  {
   "cell_type": "markdown",
   "metadata": {},
   "source": [
    "### . Functional-style programming"
   ]
  },
  {
   "cell_type": "code",
   "execution_count": null,
   "metadata": {},
   "outputs": [],
   "source": [
    "[x ** 2 for x in [1, 2, 3, 4]]"
   ]
  },
  {
   "cell_type": "code",
   "execution_count": null,
   "metadata": {},
   "outputs": [],
   "source": [
    "list(map(lambda x: x **2, [1, 2, 3, 4]))"
   ]
  },
  {
   "cell_type": "markdown",
   "metadata": {},
   "source": [
    "*"
   ]
  },
  {
   "cell_type": "code",
   "execution_count": null,
   "metadata": {},
   "outputs": [],
   "source": [
    "[x for x in [1, -2, 3, -4] if x > 0]"
   ]
  },
  {
   "cell_type": "code",
   "execution_count": null,
   "metadata": {},
   "outputs": [],
   "source": [
    "list(fiter(lambda x: x > 0, [1, -2, -3, -4]))"
   ]
  },
  {
   "cell_type": "markdown",
   "metadata": {},
   "source": [
    "*"
   ]
  },
  {
   "cell_type": "code",
   "execution_count": null,
   "metadata": {},
   "outputs": [],
   "source": [
    "functools.reduce(lamda x, y: x * y, [1, 2, 3, 4])"
   ]
  },
  {
   "cell_type": "code",
   "execution_count": null,
   "metadata": {},
   "outputs": [],
   "source": [
    "functools.reduce(operator.mul, [1, 2, 3, 4])"
   ]
  },
  {
   "cell_type": "markdown",
   "metadata": {},
   "source": [
    "*Partial function application*"
   ]
  },
  {
   "cell_type": "code",
   "execution_count": null,
   "metadata": {},
   "outputs": [],
   "source": [
    "enumerate1 = functools.partial(enumerate, start =1)\n",
    "for lino, line in enumerate1(lines):\n",
    "    process_line(i, line)"
   ]
  },
  {
   "cell_type": "code",
   "execution_count": null,
   "metadata": {},
   "outputs": [],
   "source": [
    "reader = functools.partial(open, mode=\"rt\", encoding=\"utf8\")\n",
    "writer = functools.partial(open, mode=\"wt\", encoding=\"utf8\")"
   ]
  },
  {
   "cell_type": "markdown",
   "metadata": {},
   "source": [
    "*Coroutines*"
   ]
  },
  {
   "cell_type": "code",
   "execution_count": null,
   "metadata": {},
   "outputs": [],
   "source": [
    "@coroutine \n",
    "def regex_matcher(receiver, regex): \n",
    "    while True: \n",
    "        text = (yield) \n",
    "        for match in regex.finditer(text): \n",
    "            receiver.send(match)\n",
    "def coroutine(function): \n",
    "    @functools.wraps(function) \n",
    "    def wrapper(*args, **kwargs): \n",
    "        generator = function(*args, **kwargs) \n",
    "        next(generator) \n",
    "        return generator \n",
    "    return wrapper\n",
    "try: \n",
    "    for file in sys.argv[1:]: \n",
    "        print(file) \n",
    "        html = open(file, encoding=\"utf8\").read() \n",
    "        for matcher in matchers: \n",
    "            matcher.send(html) \n",
    "finally: \n",
    "    for matcher in matchers: \n",
    "        matcher.close() \n",
    "    receiver.close()"
   ]
  }
 ],
 "metadata": {
  "kernelspec": {
   "display_name": "Python 3",
   "language": "python",
   "name": "python3"
  },
  "language_info": {
   "codemirror_mode": {
    "name": "ipython",
    "version": 3
   },
   "file_extension": ".py",
   "mimetype": "text/x-python",
   "name": "python",
   "nbconvert_exporter": "python",
   "pygments_lexer": "ipython3",
   "version": "3.7.0"
  }
 },
 "nbformat": 4,
 "nbformat_minor": 2
}
