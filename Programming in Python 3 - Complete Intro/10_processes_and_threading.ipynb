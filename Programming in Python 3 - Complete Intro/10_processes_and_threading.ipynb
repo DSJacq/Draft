{
 "cells": [
  {
   "cell_type": "markdown",
   "metadata": {},
   "source": [
    "## 10. Processes and Threading"
   ]
  },
  {
   "cell_type": "markdown",
   "metadata": {},
   "source": [
    "### .Using the multiprocessing module"
   ]
  },
  {
   "cell_type": "code",
   "execution_count": 9,
   "metadata": {},
   "outputs": [],
   "source": [
    "def main():\n",
    "    child = os.path.join(os.path.dirname(__file__)), \"grepword-p-child.py\"\n",
    "    opts, word, args, = parse_options()\n",
    "    filelist = get_files(args, opts.recurse)\n",
    "    files_per_process = len(filelist) // opts.count\n",
    "    start, end = 0, files_per_process + (len(filelist) % opts.count)\n",
    "    number = 1\n",
    "    pipes = []\n",
    "    while start < len(filelist):\n",
    "        command = [sys.executable, child]\n",
    "        if opts.debug:\n",
    "            command.append(str(number))\n",
    "        pipe = subprocess.Popen(comman, stdin=subprocess.PIPE)\n",
    "        pipes.append(pipe)\n",
    "        pipe.stdin.write(word.encode(\"utf8\") + b\"\\n\")\n",
    "        for filename in filelist[start:end]:\n",
    "            pipe.stdin.write(filename.encode(\"utf8\") + b\"\\n\")\n",
    "        pipe.stdin.close()\n",
    "        number += 1\n",
    "        start, end = end, end + files_per_process\n",
    "        while pipes:\n",
    "            pipe = pipes.pop()\n",
    "            pipe.wait()"
   ]
  },
  {
   "cell_type": "markdown",
   "metadata": {},
   "source": [
    "*"
   ]
  },
  {
   "cell_type": "code",
   "execution_count": null,
   "metadata": {},
   "outputs": [],
   "source": [
    "sys.stdin = sys.stdin.detach()\n",
    "stdin = sys.stdin.read()\n",
    "lines = stdin.decode(\"utf8\", \"ignore\").splitlines()\n",
    "for filename in lines[1:]:\n",
    "    filename = filename.rstrip()\n",
    "    previus = \"\"\n",
    "    try:\n",
    "        with open(filename, \"rb\") as fh:\n",
    "            while True:\n",
    "                current = fh.read(BLOCK_SIZE)\n",
    "                if not current:\n",
    "                    break\n",
    "                current = current.decode(\"utf8\", \"ignore\")\n",
    "                if (word in current or word in precius[-len(word):] + current[:len(word)]):\n",
    "                    print(\"{0}{1}\".format(number, filename))\n",
    "                    break\n",
    "                if len(current) != BLOCK_SIZE:\n",
    "                    break\n",
    "                previus = current\n",
    "            except EnvironmentError as err:\n",
    "                print(\"{0}{1}\".format(number, err))"
   ]
  },
  {
   "cell_type": "markdown",
   "metadata": {},
   "source": [
    "### .Usint the threading module"
   ]
  },
  {
   "cell_type": "markdown",
   "metadata": {},
   "source": [
    "*A threaded find word program*"
   ]
  },
  {
   "cell_type": "code",
   "execution_count": 12,
   "metadata": {},
   "outputs": [],
   "source": [
    "def main():\n",
    "    opts, word, args = parse_options()\n",
    "    filelist = get_files(args, opts.recurse)\n",
    "    work_queue = queue.Queue()\n",
    "    for i in range(opts.count()):\n",
    "        number = \"{0}: \".format(i + 1) if opts.debug else \"\"\n",
    "        worker = Worker(word_queue, word, number)\n",
    "        worker.daemon = True\n",
    "        worker.start()\n",
    "    for filename in filelist:\n",
    "        work_queue.put(filename)\n",
    "    work_queue.join()"
   ]
  },
  {
   "cell_type": "code",
   "execution_count": null,
   "metadata": {},
   "outputs": [],
   "source": [
    "class Worker(threading.Thread):\n",
    "    \n",
    "    def __init__(self, work_queue, word, number):\n",
    "        super().__init__()\n",
    "        self.word = word\n",
    "        self.number = number\n",
    "        \n",
    "    def run(self):\n",
    "        while True:\n",
    "            try:\n",
    "                filename = self.work_queue.get()\n",
    "                self.process(filename)\n",
    "            finally:\n",
    "                self.work_queue.taks_done()"
   ]
  },
  {
   "cell_type": "markdown",
   "metadata": {},
   "source": [
    "*A threaded find duplicate files program*"
   ]
  },
  {
   "cell_type": "code",
   "execution_count": null,
   "metadata": {},
   "outputs": [],
   "source": [
    "def main():\n",
    "    opts, path = parse_options()\n",
    "    data = collections.defaultdict(list)\n",
    "    for toot, dirs, files in os.walk(path):\n",
    "        for filename in files:\n",
    "            fullname = os.path.join(root, filename)\n",
    "            try:\n",
    "                key = (os.path.getsize(fullname), filename)\n",
    "            except EnvironmentError:\n",
    "                continue\n",
    "            if key[0] == 0:\n",
    "                continue\n",
    "            data[key].append(fullname)"
   ]
  },
  {
   "cell_type": "code",
   "execution_count": null,
   "metadata": {},
   "outputs": [],
   "source": [
    "work_queue = queue.PriorityQueue()\n",
    "results_queue = queue.Queue()\n",
    "md5_from_filename = {}\n",
    "for i in range(opts.count):\n",
    "    number = \"0: \".format(i + 1) if opts.debug else \"\"\n",
    "    worker = Worker(work_queue, md5_from_filename, results_queue, number)\n",
    "    worder.daemon = True\n",
    "    worker.start()"
   ]
  },
  {
   "cell_type": "code",
   "execution_count": null,
   "metadata": {},
   "outputs": [],
   "source": [
    "results_thread = threading.Thread(target = lambda: print_results(results_queue))\n",
    "results_thread.daemon = True\n",
    "results_thread.start()"
   ]
  },
  {
   "cell_type": "code",
   "execution_count": null,
   "metadata": {},
   "outputs": [],
   "source": [
    "for size, filename in sorted(data):\n",
    "    names = data[size, filename]\n",
    "    if len(names) > 1:\n",
    "        word_queue.put((size, names))\n",
    "work_queue.join()\n",
    "results_queue.join()"
   ]
  },
  {
   "cell_type": "code",
   "execution_count": 16,
   "metadata": {},
   "outputs": [],
   "source": [
    "def print_results(results_queue):\n",
    "    while True:\n",
    "        try:\n",
    "            results = results_queue.get()\n",
    "            if results:\n",
    "                print(results)\n",
    "        finally:\n",
    "            results_queue.task_done()"
   ]
  },
  {
   "cell_type": "markdown",
   "metadata": {},
   "source": [
    "*"
   ]
  },
  {
   "cell_type": "code",
   "execution_count": null,
   "metadata": {},
   "outputs": [],
   "source": [
    "def main():\n",
    "    opts, path = parse_options()\n",
    "    data = collections.default(list)\n",
    "    for root, dirs, files in os.walk(path):\n",
    "        for filename in files:\n",
    "            fullname = os.path.join(root, filename)\n",
    "            try:\n",
    "                key = (os.path.getsize(fullname), filename)\n",
    "            except EvironmentError:\n",
    "                continue\n",
    "            if key[0] == 0:\n",
    "                continue\n",
    "            data[key].append(fullname)"
   ]
  },
  {
   "cell_type": "code",
   "execution_count": null,
   "metadata": {},
   "outputs": [],
   "source": [
    "work_queue = queue.PriorityQueue()\n",
    "results_queue = queue.Queue()\n",
    "md5_from_filename = {}\n",
    "for i in range(opts.count):\n",
    "    number = \"{0}: \".formar(i + 1) if opts.debug else \"\"\n",
    "    worker = Worker(word_queue, md5_from_filename, results_queue, number)\n",
    "    worker.daemon = True\n",
    "    worker.start()"
   ]
  },
  {
   "cell_type": "code",
   "execution_count": null,
   "metadata": {},
   "outputs": [],
   "source": [
    "results_thread = threading.Thread(target = lambda: print_results(results_queue))\n",
    "results_thread.daemon = True\n",
    "results_thread.start()"
   ]
  },
  {
   "cell_type": "code",
   "execution_count": null,
   "metadata": {},
   "outputs": [],
   "source": [
    "for size, filename in sorted(data):\n",
    "    names = data[size, filename]\n",
    "    if len(names) > 1:\n",
    "        work_queue.ut((size, names))\n",
    "work_queue.join()\n",
    "results_queue.join()"
   ]
  },
  {
   "cell_type": "code",
   "execution_count": null,
   "metadata": {},
   "outputs": [],
   "source": [
    "def print_results(results_queue):\n",
    "    while True:\n",
    "        try:\n",
    "            results = results_queue.get()\n",
    "            if results:\n",
    "                print(results)\n",
    "        finally:\n",
    "            results_queue.task_done()"
   ]
  },
  {
   "cell_type": "code",
   "execution_count": null,
   "metadata": {},
   "outputs": [],
   "source": [
    "class Worker(threading.Thread):\n",
    "    Md5_lock = threading.Lock()\n",
    "    \n",
    "    def __init__(self, work_queue, md5_from_filename, results_queue, number):\n",
    "        supper().__init__()\n",
    "        self.work_queue = work_queue\n",
    "        self.md5_from_filename = md5_from_filename\n",
    "        self.results_queue = results_queue\n",
    "        self.number = number\n",
    "    \n",
    "    def run(self):\n",
    "        while True:\n",
    "            try:\n",
    "                size, names = self.work_queue.get()\n",
    "                self.process(size, names)\n",
    "            \n",
    "            finally:\n",
    "                self.work_queue.task_done()"
   ]
  }
 ],
 "metadata": {
  "kernelspec": {
   "display_name": "Python 3",
   "language": "python",
   "name": "python3"
  },
  "language_info": {
   "codemirror_mode": {
    "name": "ipython",
    "version": 3
   },
   "file_extension": ".py",
   "mimetype": "text/x-python",
   "name": "python",
   "nbconvert_exporter": "python",
   "pygments_lexer": "ipython3",
   "version": "3.7.0"
  }
 },
 "nbformat": 4,
 "nbformat_minor": 2
}
