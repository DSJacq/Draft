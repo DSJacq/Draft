{
 "cells": [
  {
   "cell_type": "markdown",
   "metadata": {},
   "source": [
    "# 5. Modules"
   ]
  },
  {
   "cell_type": "markdown",
   "metadata": {},
   "source": [
    "## Modules and Packages"
   ]
  },
  {
   "cell_type": "code",
   "execution_count": 1,
   "metadata": {},
   "outputs": [],
   "source": [
    "def is_balanced(text, brackets=\"()[]{}<>\"):\n",
    "    counts = {}\n",
    "    left_for_right = {}\n",
    "    for left, right in zip(brackets[::2], brackets[1::2]):\n",
    "        assert left != right, \"the bracket characters must differ\"\n",
    "        counts[left] = 0\n",
    "        left_for_right[right] = left\n",
    "    for c in text:\n",
    "        if c in counts:\n",
    "            counts[c] +=1\n",
    "        elif c in left_for_right:\n",
    "            left = left_for_right[c]\n",
    "            if counts[left] == 0:\n",
    "                return False\n",
    "            counts[left] -= 1\n",
    "    return not any(counts.values())"
   ]
  },
  {
   "cell_type": "markdown",
   "metadata": {},
   "source": [
    "## Overview of Python's Standard Library"
   ]
  },
  {
   "cell_type": "markdown",
   "metadata": {},
   "source": [
    "**String Handling**"
   ]
  },
  {
   "cell_type": "code",
   "execution_count": 4,
   "metadata": {},
   "outputs": [],
   "source": [
    "import string\n",
    "import textwrap\n",
    "import struct\n",
    "import difflib\n",
    "import re\n",
    "import sys\n",
    "import io"
   ]
  },
  {
   "cell_type": "markdown",
   "metadata": {},
   "source": [
    "*The io.StringIO Class*"
   ]
  },
  {
   "cell_type": "code",
   "execution_count": 3,
   "metadata": {},
   "outputs": [
    {
     "name": "stdout",
     "output_type": "stream",
     "text": [
      "An error message\n",
      "Another error message \n",
      "you bet"
     ]
    }
   ],
   "source": [
    "print(\"An error message\", file = sys.stdout)\n",
    "sys.stdout.write(\"Another error message \\nyou bet\")"
   ]
  },
  {
   "cell_type": "markdown",
   "metadata": {},
   "source": [
    "**Command-Line Programming**"
   ]
  },
  {
   "cell_type": "markdown",
   "metadata": {},
   "source": [
    "*The optparse module*"
   ]
  },
  {
   "cell_type": "code",
   "execution_count": 6,
   "metadata": {},
   "outputs": [],
   "source": [
    "def main():\n",
    "    parser = optparse.OptionParser()\n",
    "    parser.add_option(\"-w\", \"--maxwidth\", dest=\"maxwidth\", type=\"int\", \n",
    "                      help=(\"the maximum number of characters that can be \"\n",
    "                                                                             \"output to string fields [default: %default]\"))\n",
    "    parser.add_option(\"-f\", \"--format\", dest=\"format\", \n",
    "                      help=(\"the format used for outputting numbers \" \"[default: %default]\"))\n",
    "    parser.set_defaults(maxwidth=100, format=\".0f\")\n",
    "    opts, args = parser.parse_args()"
   ]
  },
  {
   "cell_type": "markdown",
   "metadata": {},
   "source": [
    "**Mathematics and Numbers**"
   ]
  },
  {
   "cell_type": "code",
   "execution_count": 9,
   "metadata": {},
   "outputs": [],
   "source": [
    "import math\n",
    "import cmath\n",
    "import random\n",
    "import numbers\n",
    "import numpy\n",
    "import scipy"
   ]
  },
  {
   "cell_type": "markdown",
   "metadata": {},
   "source": [
    "**Times and Dates**"
   ]
  },
  {
   "cell_type": "code",
   "execution_count": 11,
   "metadata": {},
   "outputs": [],
   "source": [
    "import calendar\n",
    "import datetime\n",
    "#import mxDateTime\n",
    "import dateutil\n",
    "import time"
   ]
  },
  {
   "cell_type": "markdown",
   "metadata": {},
   "source": [
    "**Algorithms and Collection Data Types**"
   ]
  },
  {
   "cell_type": "code",
   "execution_count": 16,
   "metadata": {},
   "outputs": [],
   "source": [
    "import bisect\n",
    "import heapq\n",
    "import collections\n",
    "import weakref\n",
    "import array"
   ]
  },
  {
   "cell_type": "markdown",
   "metadata": {},
   "source": [
    "*The heapq module*"
   ]
  },
  {
   "cell_type": "code",
   "execution_count": 17,
   "metadata": {},
   "outputs": [],
   "source": [
    "heap = []\n",
    "heapq.heappush(heap, (5, \"rest\"))\n",
    "heapq.heappush(heap, (2, \"work\"))\n",
    "heapq.heappush(heap, (4, \"study\"))"
   ]
  },
  {
   "cell_type": "code",
   "execution_count": 18,
   "metadata": {},
   "outputs": [
    {
     "name": "stdout",
     "output_type": "stream",
     "text": [
      "0 1 1 2 3 4 5 6 7 8 8 9 "
     ]
    }
   ],
   "source": [
    "for x in heapq.merge([1,3,5,8], [2,4,7], [0,1,6,8,9]):\n",
    "    print(x, end = \" \")"
   ]
  },
  {
   "cell_type": "markdown",
   "metadata": {},
   "source": [
    "**File Formats, Encodings, and Data Persistence**"
   ]
  },
  {
   "cell_type": "code",
   "execution_count": 19,
   "metadata": {},
   "outputs": [],
   "source": [
    "import base64\n",
    "import quopri\n",
    "import xdrlib\n",
    "import bz2\n",
    "import tarfile\n",
    "import zipfile\n",
    "import gzip\n",
    "import aifc\n",
    "import wave\n",
    "import audioop\n",
    "import sndhdr\n",
    "import ocnfigparser\n",
    "import csv\n",
    "import pickle\n",
    "import shelve"
   ]
  },
  {
   "cell_type": "markdown",
   "metadata": {},
   "source": [
    "**File, Directory, and Process Handling**"
   ]
  },
  {
   "cell_type": "code",
   "execution_count": 20,
   "metadata": {},
   "outputs": [],
   "source": [
    "import shutil\n",
    "import tempfile\n",
    "import filecmp\n",
    "import multiprocessing\n",
    "import os\n",
    "import mimetypes"
   ]
  },
  {
   "cell_type": "markdown",
   "metadata": {},
   "source": [
    "**Networking and Internet Programming**"
   ]
  },
  {
   "cell_type": "code",
   "execution_count": 21,
   "metadata": {},
   "outputs": [],
   "source": [
    "import socket\n",
    "import socketserver\n",
    "import asynchat\n",
    "import wsgiref\n",
    "import urllib"
   ]
  },
  {
   "cell_type": "markdown",
   "metadata": {},
   "source": [
    "**XML**"
   ]
  },
  {
   "cell_type": "code",
   "execution_count": 24,
   "metadata": {},
   "outputs": [],
   "source": [
    "import xml"
   ]
  },
  {
   "cell_type": "markdown",
   "metadata": {},
   "source": [
    "**Other modules**"
   ]
  },
  {
   "cell_type": "code",
   "execution_count": null,
   "metadata": {},
   "outputs": [],
   "source": []
  }
 ],
 "metadata": {
  "kernelspec": {
   "display_name": "Python 3",
   "language": "python",
   "name": "python3"
  },
  "language_info": {
   "codemirror_mode": {
    "name": "ipython",
    "version": 3
   },
   "file_extension": ".py",
   "mimetype": "text/x-python",
   "name": "python",
   "nbconvert_exporter": "python",
   "pygments_lexer": "ipython3",
   "version": "3.7.0"
  }
 },
 "nbformat": 4,
 "nbformat_minor": 2
}
