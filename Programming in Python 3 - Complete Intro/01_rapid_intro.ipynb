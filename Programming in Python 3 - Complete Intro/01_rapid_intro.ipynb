{
 "cells": [
  {
   "cell_type": "markdown",
   "metadata": {},
   "source": [
    "# 1. Rapid Introduction to Procedural Programming"
   ]
  },
  {
   "cell_type": "markdown",
   "metadata": {},
   "source": [
    "## tuple"
   ]
  },
  {
   "cell_type": "code",
   "execution_count": 4,
   "metadata": {},
   "outputs": [
    {
     "name": "stdout",
     "output_type": "stream",
     "text": [
      "('One', 'Two')\n",
      "2\n",
      "<class 'tuple'>\n",
      "5328107726655147680\n"
     ]
    }
   ],
   "source": [
    "tuple = ('One', 'Two')\n",
    "print(tuple)\n",
    "print(len(tuple))\n",
    "print(type(tuple))\n",
    "print(hash(tuple))"
   ]
  },
  {
   "cell_type": "markdown",
   "metadata": {},
   "source": [
    "## list"
   ]
  },
  {
   "cell_type": "code",
   "execution_count": 6,
   "metadata": {},
   "outputs": [
    {
     "name": "stdout",
     "output_type": "stream",
     "text": [
      "['One', 'Two']\n",
      "2\n",
      "<class 'list'>\n"
     ]
    }
   ],
   "source": [
    "list = ['One', 'Two']\n",
    "print(list)\n",
    "print(len(list))\n",
    "print(type(list))\n",
    "#print(hash(list))"
   ]
  },
  {
   "cell_type": "markdown",
   "metadata": {},
   "source": [
    "## while function"
   ]
  },
  {
   "cell_type": "code",
   "execution_count": 7,
   "metadata": {},
   "outputs": [
    {
     "name": "stdout",
     "output_type": "stream",
     "text": [
      "1\n",
      "2\n",
      "3\n",
      "4\n",
      "5\n",
      "6\n",
      "7\n",
      "8\n",
      "9\n"
     ]
    }
   ],
   "source": [
    "i = 1\n",
    "while i < 10:\n",
    "    print(i)\n",
    "    i +=1"
   ]
  },
  {
   "cell_type": "markdown",
   "metadata": {},
   "source": [
    "## for loop"
   ]
  },
  {
   "cell_type": "code",
   "execution_count": 8,
   "metadata": {},
   "outputs": [
    {
     "name": "stdout",
     "output_type": "stream",
     "text": [
      "Brazil\n",
      "Germany\n"
     ]
    }
   ],
   "source": [
    "for country in ('Brazil', 'Germany'):\n",
    "    print(country)"
   ]
  },
  {
   "cell_type": "markdown",
   "metadata": {},
   "source": [
    "## if function"
   ]
  },
  {
   "cell_type": "code",
   "execution_count": 9,
   "metadata": {},
   "outputs": [
    {
     "name": "stdout",
     "output_type": "stream",
     "text": [
      "A is a vowel\n",
      "B is a consonant\n",
      "C is a consonant\n",
      "D is a consonant\n",
      "E is a vowel\n",
      "F is a consonant\n",
      "G is a consonant\n",
      "H is a consonant\n",
      "I is a vowel\n",
      "J is a consonant\n",
      "K is a consonant\n",
      "L is a consonant\n",
      "M is a consonant\n",
      "N is a consonant\n",
      "O is a consonant\n",
      "P is a consonant\n",
      "Q is a consonant\n",
      "R is a consonant\n",
      "S is a consonant\n",
      "T is a consonant\n",
      "U is a vowel\n",
      "V is a consonant\n",
      "W is a consonant\n",
      "X is a consonant\n",
      "Y is a consonant\n",
      "Z is a consonant\n"
     ]
    }
   ],
   "source": [
    "for letter in 'ABCDEFGHIJKLMNOPQRSTUVWXYZ':\n",
    "    if letter in 'AEI0U':\n",
    "        print(letter, 'is a vowel')\n",
    "    else:\n",
    "        print(letter, 'is a consonant')"
   ]
  },
  {
   "cell_type": "markdown",
   "metadata": {},
   "source": [
    "## try | except"
   ]
  },
  {
   "cell_type": "code",
   "execution_count": 10,
   "metadata": {},
   "outputs": [
    {
     "name": "stdout",
     "output_type": "stream",
     "text": [
      "enter an integer: 1\n",
      "valid integer entered :  1\n"
     ]
    }
   ],
   "source": [
    "s = input('enter an integer: ')\n",
    "try:\n",
    "    i = int(s)\n",
    "    print('valid integer entered : ', i)\n",
    "except ValueError as err:\n",
    "    print(err)"
   ]
  },
  {
   "cell_type": "markdown",
   "metadata": {},
   "source": [
    "## while function [input]"
   ]
  },
  {
   "cell_type": "code",
   "execution_count": 11,
   "metadata": {},
   "outputs": [
    {
     "name": "stdout",
     "output_type": "stream",
     "text": [
      "Type integers, each followed by Enter; or just Enter to finish\n",
      "integer: 1\n",
      "integer: 1\n",
      "integer: 1\n",
      "integer: \n",
      "count =  3 total =  3 mean =  1.0\n"
     ]
    }
   ],
   "source": [
    "print('Type integers, each followed by Enter; or just Enter to finish')\n",
    "total = 0\n",
    "count = 0\n",
    "while True:\n",
    "    line = input('integer: ')\n",
    "    if line:\n",
    "        try:\n",
    "            number = int(line)\n",
    "        except ValueError as err:\n",
    "            print(err)\n",
    "            continue\n",
    "        total += number\n",
    "        count +=1\n",
    "    else:\n",
    "        break\n",
    "\n",
    "if count:\n",
    "    print('count = ', count, 'total = ', total, 'mean = ', total / count)"
   ]
  },
  {
   "cell_type": "markdown",
   "metadata": {},
   "source": [
    "## while function [value error]"
   ]
  },
  {
   "cell_type": "code",
   "execution_count": null,
   "metadata": {},
   "outputs": [],
   "source": [
    "print('Type integers, each followed by Enter; or ^D or ^Z to finish')\n",
    "total = 0\n",
    "count = 0\n",
    "while True:\n",
    "    try:\n",
    "        line = input()\n",
    "        if line:\n",
    "            number = int(line)\n",
    "            total += number\n",
    "            count += 1\n",
    "    except ValueError as err:\n",
    "        print(err)\n",
    "        continue\n",
    "    except EOFError:\n",
    "        break\n",
    "if count:\n",
    "    print('count = ', count, 'total = ', total, 'mean = ', total/count)"
   ]
  },
  {
   "cell_type": "markdown",
   "metadata": {},
   "source": [
    "## while functin [EOFError]"
   ]
  },
  {
   "cell_type": "code",
   "execution_count": null,
   "metadata": {},
   "outputs": [],
   "source": [
    "total = 0\n",
    "count = 0\n",
    "while True:\n",
    "    try:\n",
    "        line = input()\n",
    "        if line:\n",
    "            try:\n",
    "                number = int(line)\n",
    "            except ValueError as err:\n",
    "                print(err)\n",
    "            total += number\n",
    "            count += 1\n",
    "    except EOFError:\n",
    "        break\n",
    "if count:\n",
    "    print('count = ', count, 'total = ', total, 'mean = ', total/count)"
   ]
  },
  {
   "cell_type": "markdown",
   "metadata": {},
   "source": [
    "## while function [int]"
   ]
  },
  {
   "cell_type": "code",
   "execution_count": null,
   "metadata": {},
   "outputs": [],
   "source": [
    "def get_int(msg):\n",
    "    while True:\n",
    "        try:\n",
    "            i = int(input(msg))\n",
    "            return i\n",
    "        except ValueError as err:\n",
    "            print(err)\n",
    "\n",
    "age = get_int('enter your age: ')"
   ]
  },
  {
   "cell_type": "markdown",
   "metadata": {},
   "source": [
    "## import packages [sys]"
   ]
  },
  {
   "cell_type": "code",
   "execution_count": null,
   "metadata": {},
   "outputs": [],
   "source": [
    "#import sys\n",
    "print(sys.argv)\n",
    "\n",
    "#import random\n",
    "x = random.randint(1,6)\n",
    "y = random.choice(['apple', 'banana', 'cherry', 'durian'])\n",
    "print(x)\n",
    "print(y)"
   ]
  },
  {
   "cell_type": "markdown",
   "metadata": {},
   "source": [
    "## generate_grid"
   ]
  },
  {
   "cell_type": "markdown",
   "metadata": {},
   "source": [
    " To generate the grid we use three while loops,\n",
    " the outer one working by rows,\n",
    " the middle one by columns,\n",
    " and the inner one by characters."
   ]
  },
  {
   "cell_type": "code",
   "execution_count": null,
   "metadata": {},
   "outputs": [],
   "source": [
    "def get_int(msg, minimum, default):\n",
    "    while True:\n",
    "        try:\n",
    "            line = input(msg)\n",
    "            if not line and default is not None:\n",
    "                return default\n",
    "            i = int(line)\n",
    "            if i < minimum:\n",
    "                print('must be >= ', minimum)\n",
    "            else:\n",
    "                return i\n",
    "        except ValueError as err:\n",
    "            print(err)\n",
    "\n",
    "rows = get_int('rows ', 1, None)\n",
    "columns = get_int('columns: ', 1, None)\n",
    "minimum = get_int('minimum (or Enter for 0): ', -1000000,0)\n",
    "default = 1000\n",
    "if default < minimum:\n",
    "    default = 2 * minimum\n",
    "maximum = get_int('maximum (or Enter for ' + str(default) + '): ', minimum, default)\n",
    "\n",
    "row = 0\n",
    "while row < rows:\n",
    "    line = \"\"\n",
    "    column = 0\n",
    "    while column < columns:\n",
    "        i = random.randint(minimum, maximum)\n",
    "        s = str(i)\n",
    "        while len(s) < 10:\n",
    "            s = \" \" + s\n",
    "            line += s\n",
    "            column += 1\n",
    "    print(line)\n",
    "    row += 1"
   ]
  },
  {
   "cell_type": "code",
   "execution_count": null,
   "metadata": {},
   "outputs": [],
   "source": []
  },
  {
   "cell_type": "code",
   "execution_count": null,
   "metadata": {},
   "outputs": [],
   "source": []
  }
 ],
 "metadata": {
  "kernelspec": {
   "display_name": "Python 3",
   "language": "python",
   "name": "python3"
  },
  "language_info": {
   "codemirror_mode": {
    "name": "ipython",
    "version": 3
   },
   "file_extension": ".py",
   "mimetype": "text/x-python",
   "name": "python",
   "nbconvert_exporter": "python",
   "pygments_lexer": "ipython3",
   "version": "3.7.0"
  }
 },
 "nbformat": 4,
 "nbformat_minor": 2
}
