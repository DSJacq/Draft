{
 "cells": [
  {
   "cell_type": "markdown",
   "metadata": {},
   "source": [
    "# 2. Data Types"
   ]
  },
  {
   "cell_type": "markdown",
   "metadata": {},
   "source": [
    "## Identifires and Keyrowds"
   ]
  },
  {
   "cell_type": "markdown",
   "metadata": {},
   "source": [
    "    and\n",
    "    as\n",
    "    assert\n",
    "    break\n",
    "    class\n",
    "    continue\n",
    "    def\n",
    "    del\n",
    "    elif\n",
    "    else\n",
    "    except \n",
    "    False\n",
    "    finally \n",
    "    for \n",
    "    from \n",
    "    global \n",
    "    if \n",
    "    import \n",
    "    in \n",
    "    is\n",
    "    lambda\n",
    "    None\n",
    "    nonlocal\n",
    "    not\n",
    "    or\n",
    "    pass\n",
    "    raise\n",
    "    return\n",
    "    True\n",
    "    try \n",
    "    while \n",
    "    with \n",
    "    yield \n"
   ]
  },
  {
   "cell_type": "markdown",
   "metadata": {},
   "source": [
    "## Integral Types"
   ]
  },
  {
   "cell_type": "markdown",
   "metadata": {},
   "source": [
    "*Numeric Operators and Functions*"
   ]
  },
  {
   "cell_type": "markdown",
   "metadata": {},
   "source": [
    "    x ** y\n",
    "    x // y\n",
    "    x % y\n",
    "    abs(x)\n",
    "    divmod(x,y)\n",
    "    pow(x,y)\n",
    "    pow(x, y, z) # alternative (x** y) % z\n",
    "    round(x, n)\n",
    "    bin(i) #binary\n",
    "    hex(i) #hexadecimal\n",
    "    int(x)\n",
    "    int(s, base) # convert string x to an integer\n",
    "    oct(i) # returns the octal representation of i as a string"
   ]
  },
  {
   "cell_type": "markdown",
   "metadata": {},
   "source": [
    "*Integer Bitwhise Operators*"
   ]
  },
  {
   "cell_type": "markdown",
   "metadata": {},
   "source": [
    "    or - i | j\n",
    "    xor - i ^ j\n",
    "    and - i & j\n",
    "    shifts left - i << j\n",
    "    shiffts right - i >> j\n",
    "    interts - ~ i"
   ]
  },
  {
   "cell_type": "markdown",
   "metadata": {},
   "source": [
    "*Booleans*"
   ]
  },
  {
   "cell_type": "code",
   "execution_count": 6,
   "metadata": {},
   "outputs": [
    {
     "data": {
      "text/plain": [
       "True"
      ]
     },
     "execution_count": 6,
     "metadata": {},
     "output_type": "execute_result"
    }
   ],
   "source": [
    "    t = True\n",
    "    f = False\n",
    "    t and f\n",
    "    t and True"
   ]
  },
  {
   "cell_type": "markdown",
   "metadata": {},
   "source": [
    "## Floatint-Point Types"
   ]
  },
  {
   "cell_type": "code",
   "execution_count": 11,
   "metadata": {},
   "outputs": [],
   "source": [
    "def equal_float(a,b):\n",
    "    return abs(a - b) <= sys.float_info.epsilon"
   ]
  },
  {
   "cell_type": "code",
   "execution_count": 13,
   "metadata": {},
   "outputs": [],
   "source": [
    "# help(sys.float_info)"
   ]
  },
  {
   "cell_type": "code",
   "execution_count": 14,
   "metadata": {},
   "outputs": [],
   "source": [
    "s = 14.28.hex()\n",
    "f = float.fromhex(s)\n",
    "t = f.hex()"
   ]
  },
  {
   "cell_type": "markdown",
   "metadata": {},
   "source": [
    "*Complex Numbers*"
   ]
  },
  {
   "cell_type": "markdown",
   "metadata": {},
   "source": [
    "*Decimal Numbers*"
   ]
  },
  {
   "cell_type": "markdown",
   "metadata": {},
   "source": [
    "## Strings"
   ]
  },
  {
   "cell_type": "markdown",
   "metadata": {},
   "source": [
    "*String Escapes*"
   ]
  },
  {
   "cell_type": "markdown",
   "metadata": {},
   "source": [
    "    \\ newline\n",
    "    \\ \\ \n",
    "    \\ '\n",
    "    \\ \"\n",
    "    \\ a       ASCII BEL\n",
    "    \\ b       ASCII BS\n",
    "    \\ f       ASCII FF\n",
    "    \\ n       ASCII LF\n",
    "    \\ N{name}\n",
    "    \\ ooo\n",
    "    \\ r\n",
    "    \\ t\n",
    "    \\ tttt    16-bit hexadecinal value\n",
    "    \\ Tttt    32-bit hexadecimal value\n",
    "    \\ v       ASCII VT\n",
    "    \\ xh      8-bit hexadecimal value"
   ]
  },
  {
   "cell_type": "code",
   "execution_count": 15,
   "metadata": {},
   "outputs": [
    {
     "name": "stdout",
     "output_type": "stream",
     "text": [
      "This is not the best way to join two long strings together since it relies on ugly newline escaping\n",
      "This is the nice way to join two long strings together; it relies on string literal concatenation.\n",
      "€ € €\n",
      "test ∞⎷\n"
     ]
    }
   ],
   "source": [
    "t = \"This is not the best way to join two long strings \" + \\\n",
    "    \"together since it relies on ugly newline escaping\"\n",
    "s = (\"This is the nice way to join two long strings \" \n",
    "    \"together; it relies on string literal concatenation.\")\n",
    "euros = \"\\N{euro sign} \\u20Ac \\U000020AC\"\n",
    "i = 'test ' + chr(8734) + chr(0x23B7)\n",
    "\n",
    "print(t)\n",
    "print(s)\n",
    "print(euros)\n",
    "print(i)"
   ]
  },
  {
   "cell_type": "markdown",
   "metadata": {},
   "source": [
    "**Slicing and Striding Strings**"
   ]
  },
  {
   "cell_type": "code",
   "execution_count": 16,
   "metadata": {},
   "outputs": [
    {
     "name": "stdout",
     "output_type": "stream",
     "text": [
      "Testing this\n",
      "Tnirh\n",
      "ee nrssh nt\n",
      "ereh gnirts siht gnitseT\n"
     ]
    }
   ],
   "source": [
    "s = 'Testing this string here'\n",
    "t = s[:12]\n",
    "w = s[::5]\n",
    "g = s[:2:-2]\n",
    "r = s[::-1]\n",
    "\n",
    "print(t)\n",
    "print(w)\n",
    "print(g)\n",
    "print(r)"
   ]
  },
  {
   "cell_type": "markdown",
   "metadata": {},
   "source": [
    "**String Operators and Methods**"
   ]
  },
  {
   "cell_type": "code",
   "execution_count": 18,
   "metadata": {},
   "outputs": [],
   "source": [
    "# Option 1\n",
    "def extract_from_tag_0(tag, line):\n",
    "    opener = '<' + tag + '>'\n",
    "    closer = '</' + tag + '>'\n",
    "    try:\n",
    "        i = line.index(opener)\n",
    "        start = i + len(opener)\n",
    "        j = line.index(closer, start)\n",
    "        return line[start:j]\n",
    "    except ValueError:\n",
    "        return None"
   ]
  },
  {
   "cell_type": "code",
   "execution_count": 19,
   "metadata": {},
   "outputs": [],
   "source": [
    "# Option 2\n",
    "def extract_from_tag_1(tag, line):\n",
    "    opener = '<' + tag + '>'\n",
    "    closer = '</' + tag + '>'\n",
    "    i = line.find(opener)\n",
    "    if i != -1:\n",
    "        start = i + len(opener)\n",
    "        j = line.find(closer, start)\n",
    "        if j != -1:\n",
    "            return line[start:j]\n",
    "    return None"
   ]
  },
  {
   "cell_type": "markdown",
   "metadata": {},
   "source": [
    "**String Split**"
   ]
  },
  {
   "cell_type": "code",
   "execution_count": 31,
   "metadata": {},
   "outputs": [
    {
     "name": "stdout",
     "output_type": "stream",
     "text": [
      "['Leo Tolstoy ', ' 1828-8-28 ', ' 1910-11-20']\n",
      "[' 1828', '8', '28 ']\n",
      "[' 1910', '11', '20']\n",
      "Leo Tolstoy lived about 82 years\n"
     ]
    }
   ],
   "source": [
    "record = 'Leo Tolstoy * 1828-8-28 * 1910-11-20'\n",
    "\n",
    "fields = record.split('*')\n",
    "print(fields)\n",
    "\n",
    "born = fields[1].split('-')\n",
    "print(born)\n",
    "\n",
    "died = fields[2].split('-')\n",
    "print(died)\n",
    "\n",
    "print(\"Leo Tolstoy lived about\", int(died[0]) - int(born[0]), \"years\")"
   ]
  },
  {
   "cell_type": "markdown",
   "metadata": {},
   "source": [
    "**String translate**"
   ]
  },
  {
   "cell_type": "code",
   "execution_count": 30,
   "metadata": {},
   "outputs": [
    {
     "name": "stdout",
     "output_type": "stream",
     "text": [
      "10095\n"
     ]
    }
   ],
   "source": [
    "table = \"\".maketrans(\"\\N{bengali digit zero}\" \"\\N{bengali digit one}\\N{bengali digit two}\" \"\\N{bengali digit three}\\N{bengali digit four}\" \"\\N{bengali digit five}\\N{bengali digit six}\" \"\\N{bengali digit seven}\\N{bengali digit eight}\" \"\\N{bengali digit nine}\", \"0123456789\")\n",
    "print(\"\\N{bengali digit one}00\\N{bengali digit nine}\" \"\\N{bengali digit five}\".translate(table))"
   ]
  },
  {
   "cell_type": "markdown",
   "metadata": {},
   "source": [
    "**String formatting with str.format() method**"
   ]
  },
  {
   "cell_type": "code",
   "execution_count": 22,
   "metadata": {},
   "outputs": [
    {
     "name": "stdout",
     "output_type": "stream",
     "text": [
      "The novel 'Hard Times' was published in 1854\n"
     ]
    }
   ],
   "source": [
    "print(\"The novel '{0}' was published in {1}\".format('Hard Times', 1854))"
   ]
  },
  {
   "cell_type": "code",
   "execution_count": 23,
   "metadata": {},
   "outputs": [
    {
     "name": "stdout",
     "output_type": "stream",
     "text": [
      "She turned 29 this year\n"
     ]
    }
   ],
   "source": [
    "print(\"{who} turned {age} this year\".format(who='She', age=29))"
   ]
  },
  {
   "cell_type": "code",
   "execution_count": 24,
   "metadata": {},
   "outputs": [
    {
     "name": "stdout",
     "output_type": "stream",
     "text": [
      "We have envelops and notepads in stock\n"
     ]
    }
   ],
   "source": [
    "stock = ['paper', 'envelops', 'notepads', 'pens', 'paper clips']\n",
    "print(\"We have {0[1]} and {0[2]} in stock\".format(stock))"
   ]
  },
  {
   "cell_type": "code",
   "execution_count": 25,
   "metadata": {},
   "outputs": [
    {
     "name": "stdout",
     "output_type": "stream",
     "text": [
      "The elephant weighs 12000 kg\n"
     ]
    }
   ],
   "source": [
    "d = dict(animal = 'elephant', weight = 12000)\n",
    "print(\"The {0[animal]} weighs {0[weight]} kg\".format(d))"
   ]
  },
  {
   "cell_type": "code",
   "execution_count": 26,
   "metadata": {},
   "outputs": [
    {
     "name": "stdout",
     "output_type": "stream",
     "text": [
      "Python can count.\n"
     ]
    }
   ],
   "source": [
    "print('{}{}{}'.format('Python ', 'can ', 'count.'))"
   ]
  },
  {
   "cell_type": "code",
   "execution_count": 28,
   "metadata": {},
   "outputs": [
    {
     "name": "stdout",
     "output_type": "stream",
     "text": [
      "Element 47 is Silver\n"
     ]
    }
   ],
   "source": [
    "element = 'Silver'\n",
    "number = 47\n",
    "print('Element {number} is {element}'.format(**locals()))"
   ]
  },
  {
   "cell_type": "code",
   "execution_count": 29,
   "metadata": {},
   "outputs": [
    {
     "name": "stdout",
     "output_type": "stream",
     "text": [
      "The elephant weighs 12000 kg\n"
     ]
    }
   ],
   "source": [
    "print('The {animal} weighs {weight} kg'.format(**d))"
   ]
  },
  {
   "cell_type": "markdown",
   "metadata": {},
   "source": [
    "## Conversions"
   ]
  },
  {
   "cell_type": "markdown",
   "metadata": {},
   "source": [
    "    fill\n",
    "    align\n",
    "    sign\n",
    "    #\n",
    "    0\n",
    "    width\n",
    "    ,\n",
    "    .precision\n",
    "    type"
   ]
  },
  {
   "cell_type": "code",
   "execution_count": 32,
   "metadata": {},
   "outputs": [
    {
     "name": "stdout",
     "output_type": "stream",
     "text": [
      "The sword of truth       \n",
      "       The sword of truth\n",
      "   The sword of truth    \n",
      "---The sword of truth----\n",
      "The sword of truth       \n",
      "The sword \n",
      "The sword of\n",
      "The sword of\n"
     ]
    }
   ],
   "source": [
    "s = 'The sword of truth'\n",
    "print('{0:25}'.format(s))\n",
    "print('{0:>25}'.format(s))\n",
    "print('{0:^25}'.format(s))\n",
    "print('{0:-^25}'.format(s))\n",
    "print('{0:<25}'.format(s))\n",
    "print('{0:.10}'.format(s))\n",
    "maxwidth = 12\n",
    "print('{0}'.format(s[:maxwidth]))\n",
    "print('{0:.{1}}'.format(s, maxwidth))"
   ]
  },
  {
   "cell_type": "markdown",
   "metadata": {},
   "source": [
    "# Examples"
   ]
  },
  {
   "cell_type": "markdown",
   "metadata": {},
   "source": [
    "**quadratic.py**"
   ]
  },
  {
   "cell_type": "code",
   "execution_count": 37,
   "metadata": {},
   "outputs": [
    {
     "name": "stdout",
     "output_type": "stream",
     "text": [
      "ax² + bx + c = 0\n",
      "enter a: 2\n",
      "enter b: 3\n",
      "enter c: 2\n"
     ]
    }
   ],
   "source": [
    "import cmath\n",
    "import math\n",
    "import sys\n",
    "\n",
    "def get_float(msg, allow_zero):\n",
    "    x = None\n",
    "    while x is None:\n",
    "        try:\n",
    "            x = float(input(msg))\n",
    "            if not allow_zero and abs(x) < sys.float_info.epsilon:\n",
    "                print('zero is not allowed')\n",
    "                x = None\n",
    "        except ValueError as err:\n",
    "            print(err)\n",
    "    return x\n",
    "\n",
    "print(\"ax\\N{SUPERSCRIPT TWO} + bx + c = 0\") \n",
    "a = get_float(\"enter a: \", False) \n",
    "b = get_float(\"enter b: \", True) \n",
    "c = get_float(\"enter c: \", True)"
   ]
  },
  {
   "cell_type": "markdown",
   "metadata": {},
   "source": [
    "**csv2html.py**"
   ]
  },
  {
   "cell_type": "code",
   "execution_count": 39,
   "metadata": {},
   "outputs": [],
   "source": [
    "def main(): \n",
    "    maxwidth = 100 \n",
    "    print_start() \n",
    "    count = 0 \n",
    "    while True: \n",
    "        try: \n",
    "            line = input() \n",
    "            if count == 0: \n",
    "                color = \"lightgreen\" \n",
    "            elif count % 2: \n",
    "                color = \"white\" \n",
    "            else: \n",
    "                color = \"lightyellow\"\n",
    "            print_line(line, color, maxwidth)\n",
    "            count += 1\n",
    "        except EOFError:\n",
    "            break\n",
    "    print_end()\n",
    "\n",
    "\n",
    "def print_start(): \n",
    "    print(\"<table border='1'>\")\n",
    "\n",
    "def print_line(line, color, maxwidth): \n",
    "    print(\"<tr bgcolor='{0}'>\".format(color)) \n",
    "    fields = extract_fields(line) \n",
    "    for field in fields: \n",
    "        if not field: \n",
    "            print(\"<td></td>\") \n",
    "        else: \n",
    "            number = field.replace(\",\", \"\") \n",
    "            try: \n",
    "                x = float(number) \n",
    "                print(\"<td align='right'>{0:d}</td>\".format(round(x))) \n",
    "            except ValueError: \n",
    "                field = field.title() \n",
    "                field = field.replace(\" And \", \" and \") \n",
    "                if len(field) <= maxwidth: \n",
    "                    field = escape_html(field) \n",
    "                else: field = \"{0} ...\".format( escape_html(field[:maxwidth])) \n",
    "                print(\"<td>{0}</td>\".format(field)) \n",
    "                print(\"</tr>\")\n",
    "\n",
    "def extract_fields(line): \n",
    "    fields = [] \n",
    "    field = \"\" \n",
    "    quote = None \n",
    "    for c in line: \n",
    "        if c in \"\\\"'\": \n",
    "            if quote is None:\n",
    "                quote = c \n",
    "            elif quote == c: \n",
    "                quote = None \n",
    "            else: \n",
    "                field += c \n",
    "                continue \n",
    "        if quote is None and c == \",\": \n",
    "            fields.append(field) \n",
    "            field = \"\" \n",
    "        else: \n",
    "            field += c \n",
    "    if field: \n",
    "        fields.append(field) \n",
    "        return fields \n",
    "\n",
    "def escape_html(text): \n",
    "    text = text.replace(\"&\", \"&amp;\") \n",
    "    text = text.replace(\"<\", \"&lt;\") \n",
    "    text = text.replace(\">\", \"&gt;\") \n",
    "    return text\n",
    "\n",
    "def print_end(): \n",
    "    print(\"</table>\")"
   ]
  },
  {
   "cell_type": "code",
   "execution_count": null,
   "metadata": {},
   "outputs": [],
   "source": []
  }
 ],
 "metadata": {
  "kernelspec": {
   "display_name": "Python 3",
   "language": "python",
   "name": "python3"
  },
  "language_info": {
   "codemirror_mode": {
    "name": "ipython",
    "version": 3
   },
   "file_extension": ".py",
   "mimetype": "text/x-python",
   "name": "python",
   "nbconvert_exporter": "python",
   "pygments_lexer": "ipython3",
   "version": "3.7.0"
  }
 },
 "nbformat": 4,
 "nbformat_minor": 2
}
