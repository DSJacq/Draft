{
 "cells": [
  {
   "cell_type": "markdown",
   "metadata": {},
   "source": [
    "# 4. Control Structures and Functions"
   ]
  },
  {
   "cell_type": "code",
   "execution_count": 30,
   "metadata": {},
   "outputs": [],
   "source": [
    "import sys\n",
    "import math\n",
    "import string\n",
    "import collections"
   ]
  },
  {
   "cell_type": "markdown",
   "metadata": {},
   "source": [
    "## Control Structures"
   ]
  },
  {
   "cell_type": "markdown",
   "metadata": {},
   "source": [
    "**Conditional Branching**"
   ]
  },
  {
   "cell_type": "code",
   "execution_count": null,
   "metadata": {},
   "outputs": [],
   "source": [
    "offset = 20\n",
    "\n",
    "if not sys.platform.startswith(\"win\"):\n",
    "    offset = 10\n",
    "\n",
    "offset = 20 if sys.platform.startswith('win') else 10\n",
    "print('{0} file{1}.'format((count if count != 0 else 'no'),('s' if count != 1 else '')))"
   ]
  },
  {
   "cell_type": "markdown",
   "metadata": {},
   "source": [
    "**Looping**"
   ]
  },
  {
   "cell_type": "markdown",
   "metadata": {},
   "source": [
    "*while loop*"
   ]
  },
  {
   "cell_type": "code",
   "execution_count": 7,
   "metadata": {},
   "outputs": [],
   "source": [
    "def list_find(lst,target):\n",
    "    index = 0\n",
    "    while index < len(lst):\n",
    "        if lst[index] == target:\n",
    "            break\n",
    "        index += 1\n",
    "    else:\n",
    "        index = -1\n",
    "    return index"
   ]
  },
  {
   "cell_type": "markdown",
   "metadata": {},
   "source": [
    "*for loops*"
   ]
  },
  {
   "cell_type": "code",
   "execution_count": 8,
   "metadata": {},
   "outputs": [],
   "source": [
    "def list_find(lst, target):\n",
    "    for index, x in enumerate(lst):\n",
    "        if x == target:\n",
    "            break\n",
    "        else:\n",
    "            index = -1\n",
    "        return index"
   ]
  },
  {
   "cell_type": "markdown",
   "metadata": {},
   "source": [
    "**Exception Handling**"
   ]
  },
  {
   "cell_type": "markdown",
   "metadata": {},
   "source": [
    "1. ArithmeticError\n",
    "2. EnvironmentError\n",
    "        IOError\n",
    "        OSError\n",
    "3. EOFError\n",
    "4. LookupError\n",
    "        IndexError\n",
    "        KeyError\n",
    "5. ValueError"
   ]
  },
  {
   "cell_type": "code",
   "execution_count": 10,
   "metadata": {},
   "outputs": [],
   "source": [
    "def list_find(lst, target):\n",
    "    try:\n",
    "        index = lst.index(target)\n",
    "    except ValueError:\n",
    "        index = -1\n",
    "    return index"
   ]
  },
  {
   "cell_type": "code",
   "execution_count": 11,
   "metadata": {},
   "outputs": [],
   "source": [
    "def read_data(filename):\n",
    "    lines = []\n",
    "    fh = None\n",
    "    try:\n",
    "        fh = open(filename, encoding = 'utf8')\n",
    "        for line in fh:\n",
    "            if line.strip():\n",
    "                lines.append(line)\n",
    "    except (IOError, OSError) as err:\n",
    "        print(err)\n",
    "        return[]\n",
    "    finally:\n",
    "        if fh is not None:\n",
    "            fh.close()\n",
    "    return lines"
   ]
  },
  {
   "cell_type": "markdown",
   "metadata": {},
   "source": [
    "*Custom Exceptions*"
   ]
  },
  {
   "cell_type": "code",
   "execution_count": null,
   "metadata": {},
   "outputs": [],
   "source": [
    "found = False\n",
    "\n",
    "for row, record in enumerate(table):\n",
    "    for column, field in enumerate(record):\n",
    "        for index, item in enumerate(field):\n",
    "            if item == target:\n",
    "                found = True\n",
    "                break\n",
    "        if found:\n",
    "            break\n",
    "    if found:\n",
    "        break\n",
    "\n",
    "if found:\n",
    "    print('found at ({0},{1},{2})'.format(row, column, index))\n",
    "else:\n",
    "    print('not found')"
   ]
  },
  {
   "cell_type": "code",
   "execution_count": 17,
   "metadata": {},
   "outputs": [],
   "source": [
    "class FoundException(Exception): pass\n",
    "\n",
    "try:\n",
    "    for row, record in enumerate(table):\n",
    "        for column, field in enumerate(record):\n",
    "            for index, item in enumerate(field):\n",
    "                if item == target:\n",
    "                    raise FoundException()\n",
    "except FoundException:\n",
    "    print('foun at ({0},{1},{2})'.format(row, column, index))\n",
    "else: print('not found')"
   ]
  },
  {
   "cell_type": "code",
   "execution_count": 18,
   "metadata": {},
   "outputs": [],
   "source": [
    "class InvalidEntityError(Exception): pass\n",
    "class InvalidNumericEntityError(InvalidEntityError): pass \n",
    "class InvalidAlphaEntityError(InvalidEntityError): pass \n",
    "class InvalidTagContentError(Exception): pass"
   ]
  },
  {
   "cell_type": "markdown",
   "metadata": {},
   "source": [
    "## Custom Functions"
   ]
  },
  {
   "cell_type": "markdown",
   "metadata": {},
   "source": [
    "* **global**: \n",
    "Global objects (including functions) are accessible to any code in the same module (i.e.,thesame.py ﬁle)inwhichtheobjectiscreated.\n",
    "\n",
    "* **local**: \n",
    "Also called nested functions, are functions that are deﬁned inside other functions. These functionsare visible only to the function where they are deﬁned.\n",
    "\n",
    "* **lambda**: \n",
    "Functions are expressions, so they can be created at their point of use; however,they aremuch morelimited than normalfunctions.\n",
    "\n",
    "* **methods**: \n",
    "Functions that are associated with a particular data type and can be used only in conjunction with the data type."
   ]
  },
  {
   "cell_type": "code",
   "execution_count": 20,
   "metadata": {},
   "outputs": [],
   "source": [
    "def heron(a, b, c):\n",
    "    s = (a + b + c)/2\n",
    "    return math.sqrt(s * (s - a) * (s - b) * (s - c))"
   ]
  },
  {
   "cell_type": "code",
   "execution_count": 27,
   "metadata": {},
   "outputs": [],
   "source": [
    "def letter_count(text, letters=string.ascii_letters): \n",
    "    letters = frozenset(letters) \n",
    "    count = 0 \n",
    "    for char in text: \n",
    "        if char in letters: \n",
    "            count += 1 \n",
    "    return count "
   ]
  },
  {
   "cell_type": "code",
   "execution_count": 30,
   "metadata": {},
   "outputs": [],
   "source": [
    "def shorten(text, length = 25, indicator ='...'):\n",
    "    if len(text) > length:\n",
    "        text = text[:length - len(indicator)] + indicator\n",
    "    return text"
   ]
  },
  {
   "cell_type": "code",
   "execution_count": 32,
   "metadata": {},
   "outputs": [
    {
     "data": {
      "text/plain": [
       "'Test my algorithm. Tes...'"
      ]
     },
     "execution_count": 32,
     "metadata": {},
     "output_type": "execute_result"
    }
   ],
   "source": [
    "shorten('Test my algorithm. Test my algorithm. Test my algorithm. Test my algorithm.')"
   ]
  },
  {
   "cell_type": "code",
   "execution_count": 33,
   "metadata": {},
   "outputs": [],
   "source": [
    "def append_if_even(x, lst = None):\n",
    "    if lst is None:\n",
    "        lst = []\n",
    "    if x % 2 == 0:\n",
    "        lst.append(x)\n",
    "    return lst"
   ]
  },
  {
   "cell_type": "code",
   "execution_count": 34,
   "metadata": {},
   "outputs": [],
   "source": [
    "def append_if_even(x, lst = None):\n",
    "    lst = [] if lst is None else lst\n",
    "    if x % 2 == 0:\n",
    "        lst.append(x)\n",
    "    return lst"
   ]
  },
  {
   "cell_type": "markdown",
   "metadata": {},
   "source": [
    "**Names and Docstrings**"
   ]
  },
  {
   "cell_type": "code",
   "execution_count": 2,
   "metadata": {},
   "outputs": [],
   "source": [
    "# [...]"
   ]
  },
  {
   "cell_type": "markdown",
   "metadata": {},
   "source": [
    "**Argument and Parameter Unpacking**"
   ]
  },
  {
   "cell_type": "code",
   "execution_count": 1,
   "metadata": {},
   "outputs": [],
   "source": [
    "def product(*args):\n",
    "    result = 1\n",
    "    for arg in args:\n",
    "        result *= arg\n",
    "    return result"
   ]
  },
  {
   "cell_type": "code",
   "execution_count": 2,
   "metadata": {},
   "outputs": [
    {
     "data": {
      "text/plain": [
       "24"
      ]
     },
     "execution_count": 2,
     "metadata": {},
     "output_type": "execute_result"
    }
   ],
   "source": [
    "product(1,2,3,4)"
   ]
  },
  {
   "cell_type": "code",
   "execution_count": 3,
   "metadata": {},
   "outputs": [
    {
     "data": {
      "text/plain": [
       "10"
      ]
     },
     "execution_count": 3,
     "metadata": {},
     "output_type": "execute_result"
    }
   ],
   "source": [
    "product(10)"
   ]
  },
  {
   "cell_type": "code",
   "execution_count": 11,
   "metadata": {},
   "outputs": [],
   "source": [
    "def sum_of_powers(*args, power = 1):\n",
    "    result = 0\n",
    "    for arg in args:\n",
    "        result += arg ** power\n",
    "    return result"
   ]
  },
  {
   "cell_type": "code",
   "execution_count": 13,
   "metadata": {},
   "outputs": [
    {
     "data": {
      "text/plain": [
       "35"
      ]
     },
     "execution_count": 13,
     "metadata": {},
     "output_type": "execute_result"
    }
   ],
   "source": [
    "sum_of_powers(1,3,5, power = 2)"
   ]
  },
  {
   "cell_type": "code",
   "execution_count": 25,
   "metadata": {},
   "outputs": [],
   "source": [
    "def heron(a, b, c, *, units = 'square meters'):\n",
    "    s = (a + b + c) / 2\n",
    "    area = math.sqrt(s * (s - a) * (s - b) * (s - c))\n",
    "    return '{0} {1}'.format(area, units)"
   ]
  },
  {
   "cell_type": "code",
   "execution_count": 26,
   "metadata": {},
   "outputs": [
    {
     "data": {
      "text/plain": [
       "'180.0 sq. inches'"
      ]
     },
     "execution_count": 26,
     "metadata": {},
     "output_type": "execute_result"
    }
   ],
   "source": [
    "heron(41, 9, 40, units = 'sq. inches')"
   ]
  },
  {
   "cell_type": "code",
   "execution_count": 27,
   "metadata": {},
   "outputs": [
    {
     "data": {
      "text/plain": [
       "'84.0 square meters'"
      ]
     },
     "execution_count": 27,
     "metadata": {},
     "output_type": "execute_result"
    }
   ],
   "source": [
    "heron(25, 24, 7)"
   ]
  },
  {
   "cell_type": "code",
   "execution_count": 1,
   "metadata": {},
   "outputs": [],
   "source": [
    "def print_setup(*, paper = 'Letter', copies = 1, color = False):\n",
    "    options = dict(paper='A4', color = True)\n",
    "    print_setup(**options)"
   ]
  },
  {
   "cell_type": "code",
   "execution_count": 12,
   "metadata": {},
   "outputs": [],
   "source": [
    "def add_person_details(ssn, surname, **kwargs):\n",
    "    print('SSN = ', ssn)\n",
    "    print('     surname = ', surname)\n",
    "    for key in sorted(kwargs):\n",
    "        print('     {0} = {1}'.format(key, kwargs[key]))"
   ]
  },
  {
   "cell_type": "code",
   "execution_count": 11,
   "metadata": {},
   "outputs": [
    {
     "name": "stdout",
     "output_type": "stream",
     "text": [
      "SSN =  19902803\n",
      "     surname =  Oak\n",
      "     age = 28\n",
      "     forename = Jackie\n"
     ]
    }
   ],
   "source": [
    "add_person_details(19902803, 'Oak', forename = 'Jackie', age=28)"
   ]
  },
  {
   "cell_type": "code",
   "execution_count": 4,
   "metadata": {},
   "outputs": [],
   "source": [
    "def print_args(*args, **kwargs):\n",
    "    for i, arg in enumerate(args):\n",
    "        print('positional argument {0} = {1}'.format(i, arg))\n",
    "    for key in kwargs:\n",
    "        print('keyword argument {0} = {1}'.format(key, kwargs[key]))"
   ]
  },
  {
   "cell_type": "code",
   "execution_count": 6,
   "metadata": {},
   "outputs": [
    {
     "name": "stdout",
     "output_type": "stream",
     "text": [
      "positional argument 0 = hey\n",
      "positional argument 1 = how\n"
     ]
    }
   ],
   "source": [
    "print_args('hey', 'how')"
   ]
  },
  {
   "cell_type": "markdown",
   "metadata": {},
   "source": [
    "**Accessing Variables in the Global Scope**"
   ]
  },
  {
   "cell_type": "code",
   "execution_count": 4,
   "metadata": {},
   "outputs": [],
   "source": [
    "def main():\n",
    "    if len(sys.argv) == 1 or sys.argv[1] in {'-h', '--help'}:\n",
    "        print('usage: {0} [en | fr] number'.format(sys.argv[0]))\n",
    "        sys.exit()\n",
    "    args = sys.argv[1:]\n",
    "    if args[0] in {'en', 'fr'}:\n",
    "        global Language\n",
    "        Language = args.pop(0)\n",
    "    print_digits(args.pop(0))"
   ]
  },
  {
   "cell_type": "markdown",
   "metadata": {},
   "source": [
    "**Lambda Functions**"
   ]
  },
  {
   "cell_type": "code",
   "execution_count": 5,
   "metadata": {},
   "outputs": [],
   "source": [
    "s = lambda x:'' if x == 1 else 's'"
   ]
  },
  {
   "cell_type": "code",
   "execution_count": 20,
   "metadata": {},
   "outputs": [
    {
     "data": {
      "text/plain": [
       "[(2, 12, 'Mg'), (1, 11, 'Na'), (1, 3, 'Li'), (2, 4, 'Be')]"
      ]
     },
     "execution_count": 20,
     "metadata": {},
     "output_type": "execute_result"
    }
   ],
   "source": [
    "e = [(2, 12, \"Mg\"), (1, 11, \"Na\"), (1, 3, \"Li\"), (2, 4, \"Be\")]\n",
    "e"
   ]
  },
  {
   "cell_type": "code",
   "execution_count": 14,
   "metadata": {},
   "outputs": [
    {
     "data": {
      "text/plain": [
       "[(1, 3, 'Li'), (2, 4, 'Be'), (1, 11, 'Na'), (2, 12, 'Mg')]"
      ]
     },
     "execution_count": 14,
     "metadata": {},
     "output_type": "execute_result"
    }
   ],
   "source": [
    "e.sort(key = lambda e: (e[1], e[2]))\n",
    "e"
   ]
  },
  {
   "cell_type": "code",
   "execution_count": 15,
   "metadata": {},
   "outputs": [
    {
     "data": {
      "text/plain": [
       "[(1, 3, 'Li'), (2, 4, 'Be'), (1, 11, 'Na'), (2, 12, 'Mg')]"
      ]
     },
     "execution_count": 15,
     "metadata": {},
     "output_type": "execute_result"
    }
   ],
   "source": [
    "e.sort(key = lambda e: e[1:3])\n",
    "e"
   ]
  },
  {
   "cell_type": "code",
   "execution_count": 21,
   "metadata": {},
   "outputs": [
    {
     "data": {
      "text/plain": [
       "[(2, 4, 'Be'), (1, 3, 'Li'), (2, 12, 'Mg'), (1, 11, 'Na')]"
      ]
     },
     "execution_count": 21,
     "metadata": {},
     "output_type": "execute_result"
    }
   ],
   "source": [
    "e.sort(key = lambda e: (e[2].lower(), e[1]))\n",
    "e"
   ]
  },
  {
   "cell_type": "code",
   "execution_count": 24,
   "metadata": {},
   "outputs": [
    {
     "data": {
      "text/plain": [
       "3.0"
      ]
     },
     "execution_count": 24,
     "metadata": {},
     "output_type": "execute_result"
    }
   ],
   "source": [
    "area = lambda b, h: 0.5 * b * h\n",
    "area(2,3)"
   ]
  },
  {
   "cell_type": "code",
   "execution_count": 26,
   "metadata": {},
   "outputs": [],
   "source": [
    "def area(b,h):\n",
    "    return 0.5 * b * h"
   ]
  },
  {
   "cell_type": "code",
   "execution_count": 27,
   "metadata": {},
   "outputs": [
    {
     "data": {
      "text/plain": [
       "3.0"
      ]
     },
     "execution_count": 27,
     "metadata": {},
     "output_type": "execute_result"
    }
   ],
   "source": [
    "area(2,3)"
   ]
  },
  {
   "cell_type": "code",
   "execution_count": 31,
   "metadata": {},
   "outputs": [],
   "source": [
    "minus_one_dict = collections.defaultdict(lambda: -1)"
   ]
  },
  {
   "cell_type": "code",
   "execution_count": 33,
   "metadata": {},
   "outputs": [],
   "source": [
    "point_zero_dict = collections.defaultdict(lambda: (0,0))"
   ]
  },
  {
   "cell_type": "code",
   "execution_count": 34,
   "metadata": {},
   "outputs": [],
   "source": [
    "message_dict = collections.defaultdict(lambda: 'No message available')"
   ]
  },
  {
   "cell_type": "markdown",
   "metadata": {},
   "source": [
    "**Assertions**"
   ]
  },
  {
   "cell_type": "code",
   "execution_count": 35,
   "metadata": {},
   "outputs": [],
   "source": [
    "# Option 1\n",
    "\n",
    "def product(*args):\n",
    "    assert all(args), '0 argument'\n",
    "    result = 1\n",
    "    for arg in args:\n",
    "        result *= arg\n",
    "    return result"
   ]
  },
  {
   "cell_type": "code",
   "execution_count": 39,
   "metadata": {},
   "outputs": [],
   "source": [
    "# Option 2\n",
    "\n",
    "def product(*args):\n",
    "    result = 1\n",
    "    for arg in args:\n",
    "        result *= arg\n",
    "    assert result, '0 argument'\n",
    "    return result"
   ]
  },
  {
   "cell_type": "code",
   "execution_count": null,
   "metadata": {},
   "outputs": [],
   "source": []
  }
 ],
 "metadata": {
  "kernelspec": {
   "display_name": "Python 3",
   "language": "python",
   "name": "python3"
  },
  "language_info": {
   "codemirror_mode": {
    "name": "ipython",
    "version": 3
   },
   "file_extension": ".py",
   "mimetype": "text/x-python",
   "name": "python",
   "nbconvert_exporter": "python",
   "pygments_lexer": "ipython3",
   "version": "3.7.0"
  }
 },
 "nbformat": 4,
 "nbformat_minor": 2
}
