{
 "cells": [
  {
   "cell_type": "markdown",
   "metadata": {},
   "source": [
    "## 11.Networking"
   ]
  },
  {
   "cell_type": "markdown",
   "metadata": {},
   "source": [
    "### .Creating a TCP client"
   ]
  },
  {
   "cell_type": "code",
   "execution_count": 4,
   "metadata": {},
   "outputs": [],
   "source": [
    "def main():\n",
    "    if len(sys.argv) > 1:\n",
    "        Address[0] = sys.argv[1]\n",
    "    call = dict(c=get_car_details, m=change_mileage, o=change_owner, n=new_registration, s=stop_server, q=quit)\n",
    "    menu = (\"(C)ar Edit (M)ileage Edit (O)wner (N)ew car \"\n",
    "           \"(S)top server (Q)uit\")\n",
    "    valid = frozenset(\"cmonsq\")\n",
    "    previous_license = None\n",
    "    while True:\n",
    "        action = Console.get_menu_choice(menu, valid, \"c\", True)\n",
    "        previous_license = call[action](precious_license)"
   ]
  },
  {
   "cell_type": "code",
   "execution_count": 6,
   "metadata": {},
   "outputs": [],
   "source": [
    "def get_car_details(precious_license):\n",
    "    license, car = retrieve_car_details(precious_license)\n",
    "    if car is not None:\n",
    "        print(\"license: {0}\\nSeats:    {seats}\\nMileage: {mileage}\\n\"\n",
    "             \"Owner: {owner}\".format(license, **car.__asdict()))\n",
    "    return license"
   ]
  },
  {
   "cell_type": "code",
   "execution_count": null,
   "metadata": {},
   "outputs": [],
   "source": [
    "def retrieve_car_details(previous_license):\n",
    "    license = Console.get_string(\"License\", \"license\", previous_license)\n",
    "    if not license:\n",
    "        return previous_license, None\n",
    "    license = license.upper()\n",
    "    ok, *data = handle_request(\"GET_CAR_DETAILS\", license)\n",
    "    if not ok:\n",
    "        print(data[0])\n",
    "        return previous_license, None\n",
    "    return license, CarTuple(*data)"
   ]
  },
  {
   "cell_type": "code",
   "execution_count": null,
   "metadata": {},
   "outputs": [],
   "source": []
  },
  {
   "cell_type": "code",
   "execution_count": null,
   "metadata": {},
   "outputs": [],
   "source": []
  },
  {
   "cell_type": "markdown",
   "metadata": {},
   "source": [
    "### .Creating a TCP server"
   ]
  },
  {
   "cell_type": "code",
   "execution_count": null,
   "metadata": {},
   "outputs": [],
   "source": []
  }
 ],
 "metadata": {
  "kernelspec": {
   "display_name": "Python 3",
   "language": "python",
   "name": "python3"
  },
  "language_info": {
   "codemirror_mode": {
    "name": "ipython",
    "version": 3
   },
   "file_extension": ".py",
   "mimetype": "text/x-python",
   "name": "python",
   "nbconvert_exporter": "python",
   "pygments_lexer": "ipython3",
   "version": "3.7.0"
  }
 },
 "nbformat": 4,
 "nbformat_minor": 2
}
